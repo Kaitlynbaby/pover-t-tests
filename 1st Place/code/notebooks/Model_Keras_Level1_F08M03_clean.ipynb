{
 "cells": [
  {
   "cell_type": "code",
   "execution_count": 1,
   "metadata": {},
   "outputs": [
    {
     "name": "stderr",
     "output_type": "stream",
     "text": [
      "Using TensorFlow backend.\n"
     ]
    }
   ],
   "source": [
    "import pandas as pd\n",
    "import numpy as np\n",
    "from scipy import stats\n",
    "\n",
    "\n",
    "random_state = np.random.RandomState(2925)\n",
    "np.random.seed(2925) # for reproducibility\"\n",
    "\n",
    "from sklearn.model_selection import StratifiedKFold\n",
    "from sklearn.preprocessing import  LabelEncoder\n",
    "\n",
    "from keras.regularizers import l2,l1\n",
    "from keras.layers import Input, Embedding, Dense, Dropout, Flatten\n",
    "from keras.models import Model\n",
    "from keras.layers.core import Lambda\n",
    "from keras import backend as K\n",
    "from keras import layers\n",
    "from keras import optimizers\n",
    "from keras.layers.advanced_activations import PReLU\n"
   ]
  },
  {
   "cell_type": "code",
   "execution_count": 2,
   "metadata": {
    "collapsed": true
   },
   "outputs": [],
   "source": [
    "def make_country_df(preds, test_feat, country):\n",
    "    # make sure we code the country correctly\n",
    "    country_codes = ['A', 'B', 'C']\n",
    "    \n",
    "    # get just the poor probabilities\n",
    "    country_sub = pd.DataFrame(data=preds,  # proba p=1\n",
    "                               columns=['poor'], \n",
    "                               index=test_feat.index)\n",
    "\n",
    "    \n",
    "    # add the country code for joining later\n",
    "    country_sub[\"country\"] = country\n",
    "    return country_sub[[\"country\", \"poor\"]]"
   ]
  },
  {
   "cell_type": "markdown",
   "metadata": {},
   "source": [
    "# Models"
   ]
  },
  {
   "cell_type": "code",
   "execution_count": 3,
   "metadata": {
    "collapsed": true
   },
   "outputs": [],
   "source": [
    "def expand_dims(x):\n",
    "    return K.expand_dims(x, 1)\n",
    "\n",
    "def expand_dims_output_shape(input_shape):\n",
    "    return (input_shape[0], 1, input_shape[1])"
   ]
  },
  {
   "cell_type": "code",
   "execution_count": 4,
   "metadata": {
    "collapsed": true
   },
   "outputs": [],
   "source": [
    "# Standardize features\n",
    "def standardize(df, numeric_only=True):\n",
    "    numeric = df.select_dtypes(include=['int64', 'float64'])\n",
    "    # subtracy mean and divide by std\n",
    "    df[numeric.columns] = (numeric - numeric.mean()) / numeric.std()\n",
    "    return df\n",
    "\n",
    "\n",
    "def keras_encoding(df_train,df_test):\n",
    "\n",
    "    ntrain = df_train.shape[0]\n",
    "    df_all = pd.concat((df_train, df_test), axis=0, ignore_index=True)\n",
    "    \n",
    "    num_list = list(df_train.select_dtypes(include=['int64', 'float64']).columns)\n",
    "    df_all = standardize(df_all)\n",
    "    \n",
    "    cat_list = list(df_train.select_dtypes(include=['object', 'bool']).columns)\n",
    "    for c in cat_list:\n",
    "        df_all[c] = df_all[c].astype('category').cat.as_ordered()\n",
    "        \n",
    "    le = LabelEncoder()\n",
    "\n",
    "    for col in cat_list:\n",
    "        le.fit(df_all[col].values)\n",
    "        df_all[col] = le.transform(df_all[col].values)\n",
    "\n",
    "    Din = dict()\n",
    "    Dout = dict()   \n",
    "    for col in cat_list:\n",
    "        cat_sz = np.size(np.unique(df_all[col].values))\n",
    "        Din[col]= cat_sz\n",
    "        Dout[col] = max(3,min(50, (cat_sz+1)//2))\n",
    "    \n",
    "    df_train = df_all.iloc[:ntrain,:].copy()\n",
    "    df_test = df_all.iloc[ntrain:,:].copy()\n",
    "    return df_train, df_test, num_list, cat_list, Din, Dout"
   ]
  },
  {
   "cell_type": "code",
   "execution_count": 5,
   "metadata": {
    "collapsed": true
   },
   "outputs": [],
   "source": [
    "def batch_generator(X, y,cat_list,num_list,batch_size):\n",
    "    \n",
    "    n_splits = X.shape[0] // (batch_size - 1)\n",
    "\n",
    "    skf = StratifiedKFold(n_splits=n_splits,random_state=2925, shuffle=True)\n",
    "\n",
    "    while True:\n",
    "        for idx_tr, idx_te in skf.split(X, y):\n",
    "            X_batch = X.iloc[idx_te].reset_index(drop=True).copy()\n",
    "            y_batch = y[idx_te]\n",
    "        \n",
    "            X_list = []\n",
    "            for col in cat_list:\n",
    "                X_list.append(X_batch[col].values)\n",
    "            X_list.append(X_batch[num_list].values)\n",
    "            X_batch = X_list    \n",
    "\n",
    "            yield (X_batch, y_batch)\n",
    "\n",
    "            \n",
    "            \n",
    "def Keras_B01(Xtr,Ytr,Xte,num_list, cat_list, Din, Dout,cv_i):\n",
    "\n",
    "    X_list = []\n",
    "    for col in cat_list:\n",
    "        X_list.append(Xte[col].values)\n",
    "    X_list.append(Xte[num_list].values)\n",
    "    X_test = X_list\n",
    "\n",
    "    l2_emb = 0.00001\n",
    "\n",
    "    #emb_layers=[]\n",
    "    cat_out = []\n",
    "    cat_in = []\n",
    "\n",
    "    #cat var\n",
    "    for idx, var_name in enumerate(cat_list):\n",
    "        x_in = Input(shape=(1,), dtype='int64', name=var_name+'_in')\n",
    "\n",
    "        input_dim = Din[var_name]\n",
    "        output_dim = Dout[var_name]\n",
    "        x_out = Embedding(input_dim, \n",
    "                          output_dim, \n",
    "                          input_length=1, \n",
    "                          name = var_name, \n",
    "                          embeddings_regularizer=l1(l2_emb))(x_in)\n",
    "\n",
    "        flatten_c = Flatten()(x_out)\n",
    "        #emb_layers.append(x_out) \n",
    "        \n",
    "        cat_in.append(x_in)\n",
    "        cat_out.append(flatten_c)  \n",
    "        \n",
    "    x_emb = layers.concatenate(cat_out,name = 'emb')\n",
    "\n",
    "    #continuous variables\n",
    "    cont_in = Input(shape=(len(num_list),), name='continuous_input')\n",
    "    cont_out = Lambda(expand_dims, expand_dims_output_shape)(cont_in)\n",
    "    x_num = Flatten(name = 'num')(cont_out)\n",
    "\n",
    "    cat_in.append(cont_in)\n",
    "\n",
    "    #merge\n",
    "    x = layers.concatenate([x_emb,x_num],name = 'emb_num')\n",
    "    x = Dense(512 ,activation='relu')(x)\n",
    "    x = PReLU()(x)\n",
    "    x = Dropout(0.6)(x)\n",
    "    x = Dense(64)(x)\n",
    "    x = PReLU()(x)\n",
    "    x = Dropout(0.3)(x)\n",
    "    x = Dense(32)(x)\n",
    "    x = PReLU()(x)\n",
    "    x = Dropout(0.2)(x)\n",
    "    x = Dense(1, activation='sigmoid')(x)\n",
    "\n",
    "    model = Model(inputs = cat_in, outputs = x)\n",
    "\n",
    "    model.compile(optimizers.Adam(), loss='binary_crossentropy', metrics=['accuracy'])\n",
    "    batch_size = 256\n",
    "    model.fit_generator(generator=batch_generator(Xtr, Ytr,cat_list,num_list, batch_size),\n",
    "                    epochs=10, verbose=0, steps_per_epoch= np.floor(Xtr.shape[0]/batch_size))\n",
    "\n",
    "    Yt = model.predict(X_test).flatten()\n",
    "    K.clear_session()\n",
    "    return Yt"
   ]
  },
  {
   "cell_type": "markdown",
   "metadata": {},
   "source": [
    "# Data Processing"
   ]
  },
  {
   "cell_type": "code",
   "execution_count": 6,
   "metadata": {
    "collapsed": true
   },
   "outputs": [],
   "source": [
    "def pre_process_data(df, enforce_cols=None):\n",
    "    #print(\"Input shape:\\t{}\".format(df.shape))\n",
    "    df.drop([\"country\"], axis=1, inplace=True)\n",
    "\n",
    "    # match test set and training set columns\n",
    "    if enforce_cols is not None:\n",
    "        to_drop = np.setdiff1d(df.columns, enforce_cols)\n",
    "        to_add = np.setdiff1d(enforce_cols, df.columns)\n",
    "\n",
    "        df.drop(to_drop, axis=1, inplace=True)\n",
    "        df = df.assign(**{c: 0 for c in to_add})\n",
    "    \n",
    "    df.fillna(df.mean(), inplace=True)\n",
    "    \n",
    "    return df"
   ]
  },
  {
   "cell_type": "code",
   "execution_count": 7,
   "metadata": {
    "collapsed": true
   },
   "outputs": [],
   "source": [
    "data_paths = {'A': {'train_hhold': 'data/A_hhold_train.csv', \n",
    "                        'test_hhold':  'data/A_hhold_test.csv',\n",
    "                        'train_indiv': 'data/A_indiv_train.csv', \n",
    "                        'test_indiv':  'data/A_indiv_test.csv'}, \n",
    "\n",
    "                  'B': {'train_hhold': 'data/B_hhold_train.csv', \n",
    "                        'test_hhold':  'data/B_hhold_test.csv',\n",
    "                        'train_indiv': 'data/B_indiv_train.csv', \n",
    "                        'test_indiv':  'data/B_indiv_test.csv'}, \n",
    "\n",
    "                  'C': {'train_hhold': 'data/C_hhold_train.csv', \n",
    "                        'test_hhold':  'data/C_hhold_test.csv',\n",
    "                        'train_indiv': 'data/C_indiv_train.csv', \n",
    "                        'test_indiv':  'data/C_indiv_test.csv'}}"
   ]
  },
  {
   "cell_type": "code",
   "execution_count": 8,
   "metadata": {
    "collapsed": true
   },
   "outputs": [],
   "source": [
    "def get_hhold_size(data_indiv):\n",
    "    return data_indiv.groupby('id').country.agg({'hhold_size':'count'})"
   ]
  },
  {
   "cell_type": "code",
   "execution_count": 9,
   "metadata": {
    "collapsed": true
   },
   "outputs": [],
   "source": [
    "def get_features(Country='A', f_dict=None, traintest='train'):\n",
    "      \n",
    "    # load data\n",
    "    data_hhold = pd.read_csv(data_paths[Country]['%s_hhold' % traintest], index_col='id')\n",
    "    data_indiv = pd.read_csv(data_paths[Country]['%s_indiv' % traintest], index_col='id')\n",
    "\n",
    "    ## Add indiv features:\n",
    "    #hhold size\n",
    "    if f_dict.get('hh_size'):\n",
    "        data_hh_size = get_hhold_size(data_indiv)\n",
    "        data_hhold = data_hhold.merge(data_hh_size, left_index=True, right_index=True)\n",
    "\n",
    "    \n",
    "    return data_hhold"
   ]
  },
  {
   "cell_type": "code",
   "execution_count": 10,
   "metadata": {
    "collapsed": true
   },
   "outputs": [],
   "source": [
    "def read_test_train_v2():\n",
    "\n",
    "    feat = dict()\n",
    "    feat['B'] = dict()\n",
    "    feat['B']['hh_size'] = True\n",
    "\n",
    "    b_train = get_features(Country='B', f_dict=feat['B'], traintest='train')  \n",
    "    b_test = get_features(Country='B', f_dict=feat['B'], traintest='test')  \n",
    "    \n",
    "    print(\"\\nCountry B\")\n",
    "    bX_train = pre_process_data(b_train.drop('poor', axis=1))\n",
    "    by_train = np.ravel(b_train.poor)\n",
    "\n",
    "\n",
    "    # process the test data\n",
    "    bX_test = pre_process_data(b_test, enforce_cols=bX_train.columns)\n",
    "    \n",
    "    bremove_list = ['IrxBnWxE']    \n",
    "    \n",
    "    bX_train.drop(bremove_list, axis=1, inplace=True)\n",
    "    bX_test.drop(bremove_list, axis=1, inplace=True)\n",
    "    \n",
    "    print(\"--------------------------------------------\")\n",
    "    return bX_train, by_train, bX_test"
   ]
  },
  {
   "cell_type": "code",
   "execution_count": 11,
   "metadata": {},
   "outputs": [
    {
     "name": "stderr",
     "output_type": "stream",
     "text": [
      "/home/texugo/anaconda3/envs/ag100/lib/python3.6/site-packages/ipykernel_launcher.py:2: FutureWarning: using a dict on a Series for aggregation\n",
      "is deprecated and will be removed in a future version\n",
      "  \n"
     ]
    },
    {
     "name": "stdout",
     "output_type": "stream",
     "text": [
      "\n",
      "Country B\n",
      "--------------------------------------------\n"
     ]
    }
   ],
   "source": [
    "bX_train, bY_train, bX_test = read_test_train_v2()"
   ]
  },
  {
   "cell_type": "markdown",
   "metadata": {},
   "source": [
    "# Model Train/Predict"
   ]
  },
  {
   "cell_type": "markdown",
   "metadata": {},
   "source": [
    "## Def"
   ]
  },
  {
   "cell_type": "code",
   "execution_count": 12,
   "metadata": {
    "collapsed": true
   },
   "outputs": [],
   "source": [
    "model = {'A':'Keras_A01','B':'Keras_B01','C':'Keras_C01'}\n",
    "\n",
    "datafiles = {}\n",
    "datafiles['out'] = 'predictions/Keras_M03_F08_'"
   ]
  },
  {
   "cell_type": "markdown",
   "metadata": {},
   "source": [
    "## Submission"
   ]
  },
  {
   "cell_type": "code",
   "execution_count": 13,
   "metadata": {
    "collapsed": true
   },
   "outputs": [],
   "source": [
    "bX_train, bX_test, bnum_list, bcat_list, bDin, bDout = keras_encoding(bX_train,bX_test)"
   ]
  },
  {
   "cell_type": "code",
   "execution_count": 14,
   "metadata": {
    "collapsed": true
   },
   "outputs": [],
   "source": [
    "b_preds = eval(model['B'])(bX_train, bY_train, bX_test,bnum_list, bcat_list, bDin, bDout,0)"
   ]
  },
  {
   "cell_type": "code",
   "execution_count": 15,
   "metadata": {
    "collapsed": true
   },
   "outputs": [],
   "source": [
    "# convert preds to data frames\n",
    "b_sub = make_country_df(b_preds.flatten(), bX_test, 'B')"
   ]
  },
  {
   "cell_type": "code",
   "execution_count": 16,
   "metadata": {
    "collapsed": true
   },
   "outputs": [],
   "source": [
    "b_sub.to_csv(datafiles['out']+'_B_test.csv')"
   ]
  },
  {
   "cell_type": "code",
   "execution_count": null,
   "metadata": {
    "collapsed": true
   },
   "outputs": [],
   "source": []
  },
  {
   "cell_type": "code",
   "execution_count": 17,
   "metadata": {
    "collapsed": true
   },
   "outputs": [],
   "source": [
    "df1 = pd.read_csv('./predictions/Keras_M03_F08__B_test.csv')\n",
    "df2 = pd.read_csv('./predictions/Keras_M03_F08__B_test_clean.csv')"
   ]
  },
  {
   "cell_type": "code",
   "execution_count": 19,
   "metadata": {},
   "outputs": [
    {
     "data": {
      "text/plain": [
       "[<matplotlib.lines.Line2D at 0x7f92f1244978>]"
      ]
     },
     "execution_count": 19,
     "metadata": {},
     "output_type": "execute_result"
    },
    {
     "data": {
      "image/png": "[encoded data removed]",
      "text/plain": [
       "<matplotlib.figure.Figure at 0x7f92f292c9b0>"
      ]
     },
     "metadata": {},
     "output_type": "display_data"
    }
   ],
   "source": [
    "import matplotlib.pyplot as plt\n",
    "%matplotlib inline\n",
    "plt.plot(df1.poor, df2.poor, '.')"
   ]
  },
  {
   "cell_type": "code",
   "execution_count": null,
   "metadata": {
    "collapsed": true
   },
   "outputs": [],
   "source": []
  }
 ],
 "metadata": {
  "anaconda-cloud": {},
  "kernelspec": {
   "display_name": "Python 3",
   "language": "python",
   "name": "python3"
  },
  "language_info": {
   "codemirror_mode": {
    "name": "ipython",
    "version": 3
   },
   "file_extension": ".py",
   "mimetype": "text/x-python",
   "name": "python",
   "nbconvert_exporter": "python",
   "pygments_lexer": "ipython3",
   "version": "3.6.1"
  }
 },
 "nbformat": 4,
 "nbformat_minor": 1
}
