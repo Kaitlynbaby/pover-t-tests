{
 "cells": [
  {
   "cell_type": "code",
   "execution_count": 1,
   "metadata": {},
   "outputs": [],
   "source": [
    "import pandas as pd\n",
    "import numpy as np\n",
    "\n",
    "import lightgbm as lgb\n",
    "from sklearn.preprocessing import LabelEncoder\n",
    "\n",
    "# for reproducibility\"\n",
    "random_state = np.random.RandomState(2925)\n",
    "np.random.seed(2925) "
   ]
  },
  {
   "cell_type": "code",
   "execution_count": 2,
   "metadata": {},
   "outputs": [],
   "source": [
    "def make_country_df(preds, test_feat, country):\n",
    "    # make sure we code the country correctly\n",
    "    country_codes = ['A', 'B', 'C']\n",
    "    \n",
    "    # get just the poor probabilities\n",
    "    country_sub = pd.DataFrame(data=preds,  # proba p=1\n",
    "                               columns=['poor'], \n",
    "                               index=test_feat.index)\n",
    "    # add the country code for joining later\n",
    "    country_sub[\"country\"] = country\n",
    "    return country_sub[[\"country\", \"poor\"]]"
   ]
  },
  {
   "cell_type": "markdown",
   "metadata": {},
   "source": [
    "# Models"
   ]
  },
  {
   "cell_type": "code",
   "execution_count": 3,
   "metadata": {},
   "outputs": [],
   "source": [
    "def modelB_v1(Xtr, Ytr, Xte):\n",
    "   \n",
    "\n",
    "    cat_list = list(Xtr.select_dtypes(include=['object', 'bool']).columns)\n",
    "\n",
    "    le = LabelEncoder()\n",
    "\n",
    "    for col in cat_list:\n",
    "        le.fit(np.concatenate((Xtr[col].values, Xte[col].values), axis=0))\n",
    "        Xtr[col] = le.transform(Xtr[col].values)\n",
    "        Xte[col] = le.transform(Xte[col].values)\n",
    "\n",
    "    # create dataset for lightgbm\n",
    "    lgb_train = lgb.Dataset(Xtr,\n",
    "                      label=Ytr,\n",
    "                      feature_name=list(Xtr.columns),\n",
    "                      categorical_feature=cat_list) \n",
    "                                \n",
    " # specify your configurations as a dict\n",
    "    params = {\n",
    "        'task': 'train',\n",
    "        'boosting_type': 'gbdt',\n",
    "        'objective': 'binary',\n",
    "        'metric': {'binary_logloss'},\n",
    "        'num_leaves': 8,\n",
    "        'max_depth':128,\n",
    "        'min_data_in_leaf': 36,\n",
    "        'feature_fraction': 0.1,\n",
    "        'bagging_fraction': 1,\n",
    "        'bagging_freq': 8,\n",
    "        'lambda_l2':1e-4, \n",
    "        'verbose' : 0,\n",
    "        'seed':1,\n",
    "        'scale_pos_weight':1.82,\n",
    "        'learning_rate': 0.0056,\n",
    "    }\n",
    "\n",
    "    # train\n",
    "    gbm = lgb.train(params, lgb_train, categorical_feature=cat_list, num_boost_round=2930)\n",
    "\n",
    "\n",
    "    Yt = gbm.predict(Xte)\n",
    "    return Yt"
   ]
  },
  {
   "cell_type": "markdown",
   "metadata": {},
   "source": [
    "# Data Processing"
   ]
  },
  {
   "cell_type": "code",
   "execution_count": 4,
   "metadata": {},
   "outputs": [],
   "source": [
    "data_paths = { 'B': {'train_hhold': 'data/B_hhold_train.csv', \n",
    "                        'test_hhold':  'data/B_hhold_test.csv',\n",
    "                        'train_indiv': 'data/B_indiv_train.csv', \n",
    "                        'test_indiv':  'data/B_indiv_test.csv'}}"
   ]
  },
  {
   "cell_type": "code",
   "execution_count": 5,
   "metadata": {},
   "outputs": [],
   "source": [
    "def get_hhold_size(data_indiv):\n",
    "    return data_indiv.groupby('id').country.agg({'hhold_size':'count'})\n",
    "\n",
    "\n",
    "def get_num_mean(data_indiv, traintest=None):\n",
    "    var2drop = []\n",
    "    if traintest=='train':\n",
    "        var2drop = ['iid', 'poor']\n",
    "    elif traintest=='test':\n",
    "        var2drop = ['iid']\n",
    "    return data_indiv.drop(var2drop, axis=1).groupby('id').mean()\n",
    "\n",
    "def get_num_summary(data_indiv, which=None, traintest=None):\n",
    "    var2drop = []\n",
    "    if traintest=='train':\n",
    "        var2drop = ['iid', 'poor']\n",
    "    elif traintest=='test':\n",
    "        var2drop = ['iid']\n",
    " \n",
    "    aux = ~data_indiv.drop(var2drop, axis=1).dtypes.isin(['object','bool','O'])\n",
    "    varnum = [aux.keys()[i] for i,j in enumerate(aux) if aux.values[i]]\n",
    "\n",
    "    data_num_max = data_indiv[varnum].groupby('id').max()\n",
    "    \n",
    "    if which=='max':\n",
    "        ans = data_indiv[varnum].groupby('id').max()\n",
    "    elif  which=='min':\n",
    "        ans = data_indiv[varnum].groupby('id').min()\n",
    "    return ans\n",
    "\n",
    "\n",
    "def get_cat_summary_choose(data_hhold, data_indiv, which='max', which_var=[], traintest=None):\n",
    "    var2drop = []\n",
    "    if traintest=='train':\n",
    "        var2drop = ['iid', 'poor', 'country']\n",
    "    elif traintest=='test':\n",
    "        var2drop = ['iid', 'country']\n",
    "        \n",
    "    varobj = which_var\n",
    "    df = pd.DataFrame(index = data_hhold.index)\n",
    "    for s in varobj:\n",
    "\n",
    "        if which=='max':\n",
    "            df_s = pd.get_dummies(data_indiv[s]).groupby('id').max()\n",
    "        elif which=='min':\n",
    "            df_s = pd.get_dummies(data_indiv[s]).groupby('id').min()\n",
    "        else:\n",
    "            print('Not a valid WHICH')\n",
    "\n",
    "        df = df.merge(df_s, left_index=True, right_index=True, suffixes=['', s+'_'])\n",
    "    return df\n",
    "\n",
    "def get_features(Country='A', f_dict=None, traintest='train'):\n",
    "      \n",
    "    # load data\n",
    "    data_hhold = pd.read_csv(data_paths[Country]['%s_hhold' % traintest], index_col='id')\n",
    "    data_indiv = pd.read_csv(data_paths[Country]['%s_indiv' % traintest], index_col='id')\n",
    "\n",
    "    varobj = data_indiv.select_dtypes('object', 'bool').columns\n",
    "    \n",
    "    ## Add indiv features:\n",
    "    if f_dict.get('div_by_hh_size'):\n",
    "        varofint = data_hhold.select_dtypes(['int', 'float']).keys()\n",
    "        data_hh_size = get_hhold_size(data_indiv)\n",
    "        data_hhold = data_hhold.merge(data_hh_size, left_index=True, right_index=True)\n",
    "        for v in varofint:\n",
    "            var_name = '%s_div_log_hhold_size' % v\n",
    "            data_hhold[var_name] = data_hhold[v]/np.log(data_hhold.hhold_size+1)\n",
    "        data_hhold.drop('hhold_size', axis=1, inplace=True)\n",
    "\n",
    "    #hhold size\n",
    "    if f_dict.get('hh_size'):\n",
    "        data_hh_size = get_hhold_size(data_indiv)\n",
    "        data_hhold = data_hhold.merge(data_hh_size, left_index=True, right_index=True)\n",
    "    \n",
    "    ## mean of numerical\n",
    "    if f_dict.get('num_mean'):\n",
    "        data_num_mean = get_num_mean(data_indiv, traintest=traintest)\n",
    "        data_hhold = data_hhold.merge(data_num_mean, left_index=True, right_index=True)\n",
    "   \n",
    "    # max of numerical\n",
    "    if f_dict.get('num_max'):\n",
    "        data_num_max = get_num_summary(data_indiv, which='max', traintest=traintest)\n",
    "        data_hhold = data_hhold.merge(data_num_max, left_index=True, right_index=True, suffixes=['', '_max'])\n",
    "   \n",
    "    # min of numerical\n",
    "    if f_dict.get('num_min'):\n",
    "        data_num_min = get_num_summary(data_indiv, which='min', traintest=traintest)\n",
    "        data_hhold = data_hhold.merge(data_num_min, left_index=True, right_index=True, suffixes=['', '_min'])\n",
    "       \n",
    "    if f_dict.get('cat_hot'):\n",
    "        df = get_cat_summary_choose(data_hhold, data_indiv, which='min',\n",
    "                             which_var = varobj,\n",
    "                             traintest=traintest)\n",
    "        df = df.add_suffix('_ind')\n",
    "        data_hhold = data_hhold.merge(df, left_index=True, right_index=True)\n",
    "\n",
    "        df = get_cat_summary_choose(data_hhold, data_indiv, which='max',\n",
    "                             which_var = varobj,\n",
    "                             traintest=traintest)\n",
    "        df = df.add_suffix('_ind')\n",
    "        data_hhold = data_hhold.merge(df, left_index=True, right_index=True)\n",
    "        \n",
    "    \n",
    "    return data_hhold"
   ]
  },
  {
   "cell_type": "code",
   "execution_count": 6,
   "metadata": {},
   "outputs": [],
   "source": [
    "def pre_process_data(df, enforce_cols=None):\n",
    "    \n",
    "    df.drop([\"country\"], axis=1, inplace=True)\n",
    "    # match test set and training set columns\n",
    "    if enforce_cols is not None:\n",
    "        to_drop = np.setdiff1d(df.columns, enforce_cols)\n",
    "        to_add = np.setdiff1d(enforce_cols, df.columns)\n",
    "\n",
    "        df.drop(to_drop, axis=1, inplace=True)\n",
    "        df = df.assign(**{c: 0 for c in to_add})\n",
    "    \n",
    "    df.fillna(0, inplace=True)\n",
    "    \n",
    "    return df"
   ]
  },
  {
   "cell_type": "code",
   "execution_count": 7,
   "metadata": {},
   "outputs": [],
   "source": [
    "def read_test_train_v2():\n",
    "\n",
    "   \n",
    "    feat = dict()\n",
    "    feat['B'] = dict()\n",
    "    feat['B']['hh_size'] = True\n",
    "    feat['B']['num_mean'] = True\n",
    "    feat['B']['num_max'] = True\n",
    "    feat['B']['num_min'] = True\n",
    "    feat['B']['cat_hot'] = True\n",
    "    feat['B']['cat_hot_which'] = []\n",
    "    feat['B']['div_by_hh_size'] = True\n",
    "\n",
    "\n",
    "    b_train = get_features(Country='B', f_dict=feat['B'], traintest='train')  \n",
    "    b_test = get_features(Country='B', f_dict=feat['B'], traintest='test')  \n",
    "\n",
    "    print(\"\\nCountry B\")\n",
    "    bX_train = pre_process_data(b_train.drop('poor', axis=1))\n",
    "    by_train = np.ravel(b_train.poor).astype(np.int8)\n",
    "\n",
    "    # process the test data\n",
    "    bX_test = pre_process_data(b_test, enforce_cols=bX_train.columns)\n",
    " \n",
    "\n",
    "    Bfeatures = ['jXOqJdNL', 'wJthinfa_x', 'ZvEApWrk', 'RcHBfZnL', 'ctmENvnX', 'VQMXmqDx', 'iTXaBYWz',\n",
    "                 'MEmWXiUy', 'DwxXAlcv', 'uczaFUgs', 'PIUliveV', 'ErXfvfyP', 'BXOWgPgL', 'BUhwIEqB', \n",
    "                 'umkFMfvA', 'uGCJaUZk', 'xhxyrqCY', 'OEgzfFVU', 'PrSsgpNa', 'qNrUWhsv', 'xucFAUgQ', \n",
    "                 'KxgyymbM', 'tkkjBJlG', 'NIXUEBKj', 'tVrKhgjp', 'BTHlBIyn', 'YwdSaGfO', 'jbpJuASm', \n",
    "                 'dKdJhkuC', 'BXeeFczE', 'CXvxLunT', 'TGealZJe', 'sGJAZEeR', 'uzNDcOYr', 'xjTIGPgB', \n",
    "                 'UFxnfTOh', 'rCVqiShm', 'utlAPPgH', 'xFMGVEam', 'YXUkkyFR', 'IYZKvELr', 'BjWMmVMX', \n",
    "                 'VfuePqqf', 'ldnyeZwD', 'EylTrLfA', 'RcpCILQM', 'kYVdGKjZ', 'OBRIToAY', 'aJHogyde', \n",
    "                 'gmjAuMKF', 'OhcIHRuD', 'eLlwyLOO', 'RUftVwTl', 'qotLAmpt', 'fyQTkTme', 'LgAQBTzu', \n",
    "                 'toNGbjGF', 'dnlnKrAg', 'RRHarKxb', 'ppPngGCg', 'KryzRmIv', 'qqXBSAuP', 'GrLBZowF', \n",
    "                 'kBoMnewp', 'lCKzGQow', 'XzxOZkAn', 'wRArirvZ', 'noGlVWiX', 'BCwYLHjU', 'wkChBWtc', \n",
    "                 'aAufyreG', 'cDhZjxaW', 'CQkuraNM', 'lZnJFEfD','aLTViWPH', 'vmLrLHUf', 'sClXNjye', \n",
    "                 'yZSARGEo', 'brEIdHRz', 'OMjyDfWW', 'TbDUmaHA', 'orPUSEId', 'QFRiwNOI', 'QFTrPoOY',\n",
    "                 'ciJQedKc', 'nYVcljYO', 'nxhZmcKT', 'vyjislCZ', 'bmlzNlAT', 'AZVtosGB', 'BkiXyuSp', \n",
    "                 'VlNidRNP', 'wJthinfa_div_log_hhold_size', 'qrOrXLPM_div_log_hhold_size', \n",
    "                 'BXOWgPgL_div_log_hhold_size', 'umkFMfvA_div_log_hhold_size', 'McFBIGsm_div_log_hhold_size', \n",
    "                 'rCVqiShm_div_log_hhold_size', 'ldnyeZwD_div_log_hhold_size', 'IrxBnWxE_div_log_hhold_size',\n",
    "                 'dnlnKrAg_div_log_hhold_size', 'VyHofjLM_div_log_hhold_size', 'GrLBZowF_div_log_hhold_size', \n",
    "                 'oszSdLhD_div_log_hhold_size', 'aAufyreG_div_log_hhold_size', 'hhold_size', 'BoxViLPz', \n",
    "                 'TJGiunYp', 'ETgxnJOM', 'TZDgOhYY', 'WqEZQuJP', 'DSttkpSI', 'wJthinfa_y', 'NfpXxGQk', \n",
    "                 'BoxViLPz_max', 'qlLzyqpP_max', 'sWElQwuC_max', 'WqEZQuJP_max', 'wJthinfa', 'ulQCDoYe_max',\n",
    "                 'NfpXxGQk_max', 'BoxViLPz_min', 'TZDgOhYY_min', 'WqEZQuJP_min', 'DSttkpSI_min', \n",
    "                 'wJthinfa_min', 'ulQCDoYe_min', 'ZZKZW_ind_x', 'CLRvF_ind_x', 'QEcpz_ind_x', 'tEehU_ind_x', \n",
    "                 'DMMRj_ind_x', 'BAepu_ind_x', 'naVZj_ind_x', 'jdddH_ind_x', 'lczKW_ind_x', 'jpGgs_ind_x', \n",
    "                 'ZwKYC_ind_x', 'zzQiQ_ind_x', 'wnWvh_ind_x', 'SCNcV_ind_x', 'JQNZD_ind_x', 'VprmC_ind_x', \n",
    "                 'yAfaw_ind_x', 'lOoVM_ind_x', 'YvTGA_ind_x', 'gcgvz_ind_x', 'aIbya_ind_x', 'Aontx_ind_x', \n",
    "                 'cOdtS_ind_x', 'IUoqV_ind_x', 'ENXfH_ind_x', 'aMDvF_ind_x', 'XBDsA_ind_x', 'ujKUp_ind_x', \n",
    "                 'zSWWI_ind_x', 'Urxue_ind_x', 'nMWJh_ind_x', 'ijEHl_ind_x', 'GIMJt_ind_x', 'OBaph_ind_x', \n",
    "                 'iKuWQ_ind_x', 'xzhZC_ind_x', 'dHJmu_ind_x', 'LpWKt_ind_x', 'BatOl_ind_x', 'utTVH_ind_x', \n",
    "                 'ILNCl_ind_x', 'bTxAJ_ind_x', 'ZujmJ_ind_x', 'GPQFq_ind_x', 'HyDNL_ind_x', 'BJIIK_ind_x', \n",
    "                 'ahACm_ind_x', 'sOBnN_ind_x', 'bywyW_ind_x', 'KhlzK_ind_x', 'HzgoY_ind_x', 'dyqxw_ind_y', \n",
    "                 'eMhLf_ind_y', 'bHplF_ind_y', 'jbrpw_ind_y', 'tIZVV_ind_y', 'uCnhp_ind_y', 'cRkfb_ind_y', \n",
    "                 'KeVKR_ind_y', 'QfwOP_ind_y', 'rZUNt_ind_y', 'saTsE_ind_y', 'CJciR_ind_y', 'mOuvv_ind_y', \n",
    "                 'uBqJD_ind_y', 'OsUoT_ind_y', 'lhKDF_ind_y', 'mJIJq_ind_y', 'rykRV_ind_y', 'DwHYH_ind_y', \n",
    "                 'LKUNz_ind_y', 'orerM_ind_y', 'vdziY_ind_y', 'RjgDG_ind_y', 'eiOHm_ind_y', 'utluQ_ind_y', \n",
    "                 'NcsiO_ind_y', 'JQGDB_ind_y', 'UhHVK_ind_y', 'JYYLP_ind_y', 'RpwBK_ind_y', 'jpDOv_ind_y', \n",
    "                 'vkGgj_ind_y', 'ugHCj_ind_y', 'uujhU_ind_y', 'YqFVt_ind_y', 'QIUps_ind_y', 'LaZkH_ind_y', \n",
    "                 'LikCo_ind_y', 'oejpw_ind_y', 'IoMyQ_ind_y', 'JHnUf_ind_y', 'KkNYn_ind_y', 'DHzXF_ind_y', \n",
    "                 'NuslC_ind_y', 'hqepR_ind_y', 'pygde_ind_y', 'EEchL_ind_y', 'dYWJZ_ind_y', 'WOUSF_ind_y', \n",
    "                 'cOdtS_ind_y', 'WEGGu_ind_y', 'PysZH_ind_y', 'gchNW_ind_y', 'pfrQu_ind_y', 'uGmbE_ind_y', \n",
    "                 'BBIfr_ind_y', 'SjPYj_ind_y', 'Lmgup_ind_y', 'EBoZt_ind_y', 'QoROk_ind_y', 'WpjDZ_ind_y', \n",
    "                 'cjlEZ_ind_y', 'ktTDL_ind_y', 'gjpGX_ind_y', 'hCaLM_ind_y', 'DslRt_ind_y', 'UCzdb_ind_y', \n",
    "                 'ZCIBk_ind_y', 'fvRSg_ind_y', 'rZUGI_ind_y', 'YIlNB_ind_y', 'iyUxa_ind_y', 'KamxH_ind_y', \n",
    "                 'ujKUp_ind_y', 'Tualo_ind_y', 'hJUVS_ind_y', 'kYncK_ind_y', 'uKcQe_ind_y', 'NgOVA_ind_y', \n",
    "                 'MNyiA_ind_y', 'nMWJh_ind_y', 'hEDSF_ind_y', 'FxHQQ_ind_y', 'NWLcI_ind_y', 'PTOQl_ind_y', \n",
    "                 'MWWYS_ind_y', 'UdyqU_ind_y', 'jBNAr_ind_y', 'CLxHo_ind_y', 'aCEJP_ind_y', 'WlkYg_ind_y', \n",
    "                 'WRMpA_ind_y', 'hwjzG_ind_y', 'Okibu_ind_y', 'kVFfF_ind_y', 'muyFb_ind_y', 'GGuOF_ind_y', \n",
    "                 'ZmwUH_ind_y', 'VloRD_ind_y', 'XXkzX_ind_y', 'JSoIa_ind_y', 'rMZWg_ind_y', 'ptxvF_ind_y', \n",
    "                 'bcpJn_ind_y', 'qrhCP_ind_y', 'Bjenx_ind_y', 'FZLas_ind_y', 'likxy_ind_y', 'gGOYi_ind_y', \n",
    "                 'bDMtf_ind_y', 'ycHSL_ind_y', 'WAxEO_ind_y', 'Lyzep_ind_y', 'VbPfj_ind_y', 'SvmQh_ind_y', \n",
    "                 'wokNl_ind_y', 'ULxSx_ind_y', 'khYDr_ind_y', 'muMLm_ind_y', 'ibYaP_ind_y', 'nHeNd_ind_y', \n",
    "                 'haUyq_ind_y', 'akZNG_ind_y', 'tucwI_ind_y', 'ZujmJ_ind_y', 'ddCYx_ind_y', 'vBHOU_ind_y', \n",
    "                 'jTatA_ind_y', 'tCFBl_ind_y', 'kaEhl_ind_y', 'EyqjN_ind_y', 'Nsaoe_ind_y', 'aDlJD_ind_y', \n",
    "                 'ZGgue_ind_y', 'fzWiI_ind_y', 'fOJTZ_ind_y', 'pXidb_ind_y', 'htUtp_ind_y', 'pXhfQ_ind_y', \n",
    "                 'HVkIg_ind_y', 'LKRbd_ind_y', 'GapoC_ind_y']\n",
    "       \n",
    "    bX_train =  bX_train[Bfeatures].copy()\n",
    "    bX_test =  bX_test[Bfeatures].copy()\n",
    "    print(\"--------------------------------------------\")\n",
    "    return bX_train, by_train, bX_test"
   ]
  },
  {
   "cell_type": "code",
   "execution_count": 8,
   "metadata": {},
   "outputs": [
    {
     "name": "stderr",
     "output_type": "stream",
     "text": [
      "/home/texugo/anaconda3/envs/ag100/lib/python3.6/site-packages/ipykernel_launcher.py:2: FutureWarning: using a dict on a Series for aggregation\n",
      "is deprecated and will be removed in a future version\n",
      "  \n"
     ]
    },
    {
     "name": "stdout",
     "output_type": "stream",
     "text": [
      "\n",
      "Country B\n",
      "--------------------------------------------\n"
     ]
    }
   ],
   "source": [
    "bX_train, bY_train, bX_test = read_test_train_v2()"
   ]
  },
  {
   "cell_type": "markdown",
   "metadata": {},
   "source": [
    "# Model Train/Predict"
   ]
  },
  {
   "cell_type": "markdown",
   "metadata": {},
   "source": [
    "## Def"
   ]
  },
  {
   "cell_type": "code",
   "execution_count": 9,
   "metadata": {},
   "outputs": [],
   "source": [
    "model = {'B':'modelB_v1'}\n",
    "datafiles = {}\n",
    "datafiles['out'] = 'predictions/Light_M01_F15_'"
   ]
  },
  {
   "cell_type": "markdown",
   "metadata": {},
   "source": [
    "## Submission"
   ]
  },
  {
   "cell_type": "code",
   "execution_count": 10,
   "metadata": {},
   "outputs": [],
   "source": [
    "b_preds = eval(model['B'])(bX_train, bY_train, bX_test)"
   ]
  },
  {
   "cell_type": "code",
   "execution_count": 11,
   "metadata": {},
   "outputs": [],
   "source": [
    "b_sub = make_country_df(b_preds.flatten(), bX_test, 'B')"
   ]
  },
  {
   "cell_type": "code",
   "execution_count": 12,
   "metadata": {},
   "outputs": [],
   "source": [
    "b_sub.to_csv(datafiles['out']+'_B_test.csv')"
   ]
  }
 ],
 "metadata": {
  "anaconda-cloud": {},
  "kernelspec": {
   "display_name": "Python 3",
   "language": "python",
   "name": "python3"
  },
  "language_info": {
   "codemirror_mode": {
    "name": "ipython",
    "version": 3
   },
   "file_extension": ".py",
   "mimetype": "text/x-python",
   "name": "python",
   "nbconvert_exporter": "python",
   "pygments_lexer": "ipython3",
   "version": "3.6.4"
  }
 },
 "nbformat": 4,
 "nbformat_minor": 1
}
