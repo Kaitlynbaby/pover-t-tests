{
 "cells": [
  {
   "cell_type": "code",
   "execution_count": 1,
   "metadata": {
    "collapsed": true
   },
   "outputs": [],
   "source": [
    "import pandas as pd\n",
    "import numpy as np\n",
    "\n",
    "import lightgbm as lgb\n",
    "from sklearn.preprocessing import LabelEncoder\n",
    "\n",
    "# for reproducibility\"\n",
    "random_state = np.random.RandomState(2925)\n",
    "np.random.seed(2925) "
   ]
  },
  {
   "cell_type": "code",
   "execution_count": 2,
   "metadata": {
    "collapsed": true
   },
   "outputs": [],
   "source": [
    "def make_country_df(preds, test_feat, country):\n",
    "    # make sure we code the country correctly\n",
    "    country_codes = ['A', 'B', 'C']\n",
    "    # get just the poor probabilities\n",
    "    country_sub = pd.DataFrame(data=preds,  # proba p=1\n",
    "                               columns=['poor'], \n",
    "                               index=test_feat.index)\n",
    "    # add the country code for joining later\n",
    "    country_sub[\"country\"] = country\n",
    "    return country_sub[[\"country\", \"poor\"]]"
   ]
  },
  {
   "cell_type": "markdown",
   "metadata": {},
   "source": [
    "# Models"
   ]
  },
  {
   "cell_type": "code",
   "execution_count": 3,
   "metadata": {
    "collapsed": true
   },
   "outputs": [],
   "source": [
    "def modelA_v1(Xtr, Ytr, Xte):\n",
    "   \n",
    "    cat_list = list(Xtr.select_dtypes(include=['object', 'bool']).columns)\n",
    "\n",
    "    le = LabelEncoder()\n",
    "\n",
    "    for col in cat_list:\n",
    "        le.fit(np.concatenate((Xtr[col].values, Xte[col].values), axis=0))\n",
    "        Xtr[col] = pd.Categorical(le.transform(Xtr[col].values))\n",
    "        Xte[col] = pd.Categorical(le.transform(Xte[col].values))\n",
    "\n",
    "    # create dataset for lightgbm\n",
    "    lgb_train = lgb.Dataset(Xtr,\n",
    "                      label=Ytr,\n",
    "                     feature_name=list(Xtr.columns),\n",
    "                      categorical_feature=cat_list) \n",
    "                                \n",
    " # specify your configurations as a dict\n",
    "    params = {\n",
    "        'task': 'train',\n",
    "        'boosting_type': 'gbdt',\n",
    "        'objective': 'binary',\n",
    "        'metric': {'binary_logloss'},\n",
    "        'num_leaves': 43,\n",
    "        'max_depth':16,\n",
    "        'min_data_in_leaf': 16,\n",
    "        'feature_fraction': 0.75,\n",
    "        'bagging_fraction': 0.56,\n",
    "        'bagging_freq': 1,\n",
    "        'lambda_l2':0.0, \n",
    "        'verbose' : 0,\n",
    "        'seed':1,\n",
    "        'learning_rate': 0.004,\n",
    "\n",
    "    }\n",
    "\n",
    "    # train\n",
    "    gbm = lgb.train(params,lgb_train,categorical_feature=cat_list,num_boost_round=3200)\n",
    "\n",
    "\n",
    "    Yt = gbm.predict(Xte)\n",
    "    return Yt"
   ]
  },
  {
   "cell_type": "code",
   "execution_count": 4,
   "metadata": {
    "collapsed": true
   },
   "outputs": [],
   "source": [
    "def modelB_v1(Xtr, Ytr, Xte):\n",
    "   \n",
    "\n",
    "    cat_list = list(Xtr.select_dtypes(include=['object', 'bool']).columns)\n",
    "\n",
    "    le = LabelEncoder()\n",
    "\n",
    "    for col in cat_list:\n",
    "        le.fit(np.concatenate((Xtr[col].values, Xte[col].values), axis=0))\n",
    "        Xtr[col] = le.transform(Xtr[col].values)\n",
    "        Xte[col] = le.transform(Xte[col].values)\n",
    "\n",
    "    # create dataset for lightgbm\n",
    "    lgb_train = lgb.Dataset(Xtr,\n",
    "                      label=Ytr,\n",
    "                      feature_name=list(Xtr.columns),\n",
    "                      categorical_feature=cat_list) \n",
    "                                \n",
    " # specify your configurations as a dict\n",
    "    params = {\n",
    "        'task': 'train',\n",
    "        'boosting_type': 'gbdt',\n",
    "        'objective': 'binary',\n",
    "        'metric': {'binary_logloss'},\n",
    "        'num_leaves': 16,\n",
    "        'max_depth':5,\n",
    "        'min_data_in_leaf': 55,\n",
    "        'feature_fraction': 0.41,\n",
    "        'bagging_fraction': 0.57,\n",
    "        'bagging_freq': 9,\n",
    "        'lambda_l2':2e-4, \n",
    "        'verbose' : 0,\n",
    "        'seed':1,\n",
    "        'scale_pos_weight':1.5,\n",
    "        'learning_rate': 0.004,\n",
    "    }\n",
    "\n",
    "    # train\n",
    "    gbm = lgb.train(params,lgb_train,categorical_feature=cat_list,num_boost_round=2520)\n",
    "\n",
    "    #print('Save model...')\n",
    "    # save model to file\n",
    "    #gbm.save_model('model.txt')\n",
    "\n",
    "    Yt = gbm.predict(Xte)\n",
    "    return Yt"
   ]
  },
  {
   "cell_type": "markdown",
   "metadata": {},
   "source": [
    "# Data Processing"
   ]
  },
  {
   "cell_type": "code",
   "execution_count": 5,
   "metadata": {
    "collapsed": true
   },
   "outputs": [],
   "source": [
    "data_paths = {'A': {'train_hhold': 'data/A_hhold_train.csv', \n",
    "                        'test_hhold':  'data/A_hhold_test.csv',\n",
    "                        'train_indiv': 'data/A_indiv_train.csv', \n",
    "                        'test_indiv':  'data/A_indiv_test.csv'}, \n",
    "\n",
    "                  'B': {'train_hhold': 'data/B_hhold_train.csv', \n",
    "                        'test_hhold':  'data/B_hhold_test.csv',\n",
    "                        'train_indiv': 'data/B_indiv_train.csv', \n",
    "                        'test_indiv':  'data/B_indiv_test.csv'}}\n",
    "\n",
    "\n",
    "def get_hhold_size(data_indiv):\n",
    "    return data_indiv.groupby('id').country.agg({'hhold_size':'count'})\n",
    "\n",
    "\n",
    "def get_num_mean(data_indiv, traintest=None):\n",
    "    var2drop = []\n",
    "    if traintest=='train':\n",
    "        var2drop = ['iid', 'poor']\n",
    "    elif traintest=='test':\n",
    "        var2drop = ['iid']\n",
    "    return data_indiv.drop(var2drop, axis=1).groupby('id').mean()\n",
    "\n",
    "def get_num_summary(data_indiv, which=None, traintest=None):\n",
    "    var2drop = []\n",
    "    if traintest=='train':\n",
    "        var2drop = ['iid', 'poor']\n",
    "    elif traintest=='test':\n",
    "        var2drop = ['iid']\n",
    " \n",
    "    aux = ~data_indiv.drop(var2drop, axis=1).dtypes.isin(['object','bool','O'])\n",
    "    varnum = [aux.keys()[i] for i,j in enumerate(aux) if aux.values[i]]\n",
    "\n",
    "    data_num_max = data_indiv[varnum].groupby('id').max()\n",
    "    \n",
    "    if which=='max':\n",
    "        ans = data_indiv[varnum].groupby('id').max()\n",
    "    elif  which=='min':\n",
    "        ans = data_indiv[varnum].groupby('id').min()\n",
    "    return ans\n",
    "\n",
    "\n",
    "def get_cat_summary_choose(data_hhold, data_indiv, which='max', which_var=[], traintest=None):\n",
    "    var2drop = []\n",
    "    if traintest=='train':\n",
    "        var2drop = ['iid', 'poor', 'country']\n",
    "    elif traintest=='test':\n",
    "        var2drop = ['iid', 'country']\n",
    "    varobj = which_var\n",
    "    df = pd.DataFrame(index = data_hhold.index)\n",
    "    for s in varobj:\n",
    "       \n",
    "        if which=='max':\n",
    "            df_s = pd.get_dummies(data_indiv[s]).groupby('id').max()\n",
    "        elif which=='min':\n",
    "            df_s = pd.get_dummies(data_indiv[s]).groupby('id').min()\n",
    "        else:\n",
    "            print('Not a valid WHICH')\n",
    "        df = df.merge(df_s, left_index=True, right_index=True, suffixes=['', s+'_'])\n",
    "    return df"
   ]
  },
  {
   "cell_type": "code",
   "execution_count": 6,
   "metadata": {
    "collapsed": true
   },
   "outputs": [],
   "source": [
    "def get_features(Country='A', f_dict=None, traintest='train'):\n",
    "      \n",
    "    # load data\n",
    "    data_hhold = pd.read_csv(data_paths[Country]['%s_hhold' % traintest], index_col='id')\n",
    "    data_indiv = pd.read_csv(data_paths[Country]['%s_indiv' % traintest], index_col='id')\n",
    "\n",
    "    varobj = data_indiv.select_dtypes('object', 'bool').columns\n",
    "\n",
    "    ## Add indiv features:\n",
    "    #hhold size\n",
    "    if f_dict.get('hh_size'):\n",
    "        data_hh_size = get_hhold_size(data_indiv)\n",
    "        data_hhold = data_hhold.merge(data_hh_size, left_index=True, right_index=True)\n",
    "    ## mean of numerical\n",
    "    if f_dict.get('num_mean'):\n",
    "        data_num_mean = get_num_mean(data_indiv, traintest=traintest)\n",
    "        data_hhold = data_hhold.merge(data_num_mean, left_index=True, right_index=True)\n",
    "   \n",
    "    # max of numerical\n",
    "    if f_dict.get('num_max'):\n",
    "        data_num_max = get_num_summary(data_indiv, which='max', traintest=traintest)\n",
    "        data_hhold = data_hhold.merge(data_num_max, left_index=True, right_index=True, suffixes=['', '_max'])\n",
    "   \n",
    "    # min of numerical\n",
    "    if f_dict.get('num_min'):\n",
    "        data_num_min = get_num_summary(data_indiv, which='min', traintest=traintest)\n",
    "        data_hhold = data_hhold.merge(data_num_min, left_index=True, right_index=True, suffixes=['', '_min'])\n",
    "       \n",
    "    if f_dict.get('cat_hot'):\n",
    "        df = get_cat_summary_choose(data_hhold, data_indiv, which='min',\n",
    "                             which_var = varobj,\n",
    "                             traintest=traintest)\n",
    "        df = df.add_suffix('_ind')\n",
    "        data_hhold = data_hhold.merge(df, left_index=True, right_index=True)\n",
    "\n",
    "        df = get_cat_summary_choose(data_hhold, data_indiv, which='max',\n",
    "                             which_var = varobj,\n",
    "                             traintest=traintest)\n",
    "        df = df.add_suffix('_ind')\n",
    "        data_hhold = data_hhold.merge(df, left_index=True, right_index=True)\n",
    "           \n",
    "    return data_hhold"
   ]
  },
  {
   "cell_type": "code",
   "execution_count": 7,
   "metadata": {
    "collapsed": true
   },
   "outputs": [],
   "source": [
    "def pre_process_data(df, enforce_cols=None):\n",
    "    \n",
    "    df.drop([\"country\"], axis=1, inplace=True)\n",
    "    # match test set and training set columns\n",
    "    if enforce_cols is not None:\n",
    "        to_drop = np.setdiff1d(df.columns, enforce_cols)\n",
    "        to_add = np.setdiff1d(enforce_cols, df.columns)\n",
    "\n",
    "        df.drop(to_drop, axis=1, inplace=True)\n",
    "        df = df.assign(**{c: 0 for c in to_add})\n",
    "    \n",
    "    df.fillna(df.mean(), inplace=True)\n",
    "    \n",
    "    return df"
   ]
  },
  {
   "cell_type": "code",
   "execution_count": 8,
   "metadata": {
    "collapsed": true
   },
   "outputs": [],
   "source": [
    "def read_test_train_v2():\n",
    "\n",
    "    feat = dict()\n",
    "    feat['A'] = dict()\n",
    "    feat['A']['hh_size'] = True\n",
    "    feat['A']['num_mean'] = True\n",
    "    feat['A']['num_max'] = True\n",
    "    feat['A']['num_min'] = True\n",
    "    feat['A']['cat_hot'] = True\n",
    "    feat['A']['cat_hot_which'] =  []\n",
    "    \n",
    "    a_train = get_features(Country='A', f_dict=feat['A'], traintest='train')  \n",
    "    a_test = get_features(Country='A', f_dict=feat['A'], traintest='test')  \n",
    "   \n",
    "    #feat = dict()\n",
    "    feat['B'] = dict()\n",
    "    feat['B']['hh_size'] = True\n",
    "    feat['B']['num_mean'] = True\n",
    "    feat['B']['num_max'] = True\n",
    "    feat['B']['num_min'] = True\n",
    "    feat['B']['cat_hot'] = True\n",
    "    feat['B']['cat_hot_which'] = []\n",
    "\n",
    "    b_train = get_features(Country='B', f_dict=feat['B'], traintest='train')  \n",
    "    b_test = get_features(Country='B', f_dict=feat['B'], traintest='test')  \n",
    "    \n",
    "    print(\"Country A\")\n",
    "    aX_train = pre_process_data(a_train.drop('poor', axis=1))\n",
    "    ay_train = np.ravel(a_train.poor).astype(np.int8)\n",
    "\n",
    "    print(\"\\nCountry B\")\n",
    "    bX_train = pre_process_data(b_train.drop('poor', axis=1))\n",
    "    by_train = np.ravel(b_train.poor).astype(np.int8)\n",
    "\n",
    "    # process the test data\n",
    "    aX_test = pre_process_data(a_test, enforce_cols=aX_train.columns)\n",
    "    bX_test = pre_process_data(b_test, enforce_cols=bX_train.columns)\n",
    "\n",
    "    Afeatures = ['SlDKnCuu', 'jdetlNNF', 'vwpsXRGk', 'TYhoEiNm', 'VZtBaoXL', 'zFkComtB', 'zzwlWZZC', \n",
    "                 'DxLvCGgv', 'CbABToOI', 'qgMygRvX', 'uSKnVaKV', 'nEsgxvAq', 'NmAVTtfA', 'YTdCRVJt', \n",
    "                 'QyBloWXZ', 'HKMQJANN', 'ZRrposmO', 'EJgrQqET', 'HfKRIwMb', 'NRVuZwXK', 'UCAmikjV', \n",
    "                 'UGbBCHRE', 'uJYGhXqG', 'bxKGlBYX', 'nCzVgxgY', 'MxOgekdE', 'SqGRfEuW', 'JwtIxvKg', \n",
    "                 'bEPKkJXP', 'cqUmYeAp', 'sFWbFEso', 'TqrXZaOw', 'VIRwrkXp', 'gwhBRami', 'bPOwgKnT', \n",
    "                 'fpHOwfAs', 'VXXLUaXP', 'btgWptTG', 'YWwNfVtR', 'bgoWYRMQ', 'bMudmjzJ', 'GKUhYLAE',\n",
    "                 'OMtioXZZ', 'bIBQTaHw', 'KcArMKAe', 'enTUTSQi', 'wwfmpuWA', 'znHDEHZP', 'kWFVfHWP', \n",
    "                 'XwVALSPR', 'CrfscGZl', 'dCGNTMiG', 'ngwuvaCV', 'XSgHIFXD', 'ANBCxZzU', 'NanLCXEI', \n",
    "                 'ZnBLVaqz', 'srPNUgVy', 'pCgBHqsR', 'wEbmsuJO', 'TWXCrjor', 'mRgnuJVE', 'pWyRKfsb', \n",
    "                 'udzhtHIr', 'IZFarbPw', 'QNLOXNwj', 'YFMZwKrU', 'RJQbcmKy', 'TnWhKowI', 'LoYIbglA', \n",
    "                 'GhJKwVWC', 'lVHmBCmb', 'qgxmqJKa', 'gfurxECf', 'hnrnuMte', 'XDDOZFWf', 'ccAHraiP', \n",
    "                 'QayGNSmS', 'ePtrWTFd', 'tbsBPHFD', 'naDKOzdk', 'DNAfxPzs', 'xkUFKUoW', 'SeZULMCT', \n",
    "                 'AtGRGAYi', 'FGDcbVBN', 'WTFJilSZ', 'NBfffJUe', 'mvgxfsRb', 'UXfyiodk', 'EftwspgZ', \n",
    "                 'bSaLisbO', 'wKcZtLNv', 'BfGjiYom', 'iWEFJYkR', 'BCehjxAl', 'CHAQHqqr', 'nqndbwXP',\n",
    "                 'phwExnuQ', 'SzUcfjnr', 'PXtHzrqw', 'CNkSTLvx', 'MKozKLvT', 'zkbPtFyO', 'xZBEXWPR', \n",
    "                 'dyGFeFAg', 'bCYWWTxH', 'EQKKRGkR', 'muIetHMK', 'ItpCDLDM', 'gOGWzlYC', 'ptEAnCSs', \n",
    "                 'HDCjCTRd', 'orfSPOJX', 'OKMtkqdQ', 'qTginJts', 'JzhdOhzb', 'jwEuQQve', 'rQAsGegu', \n",
    "                 'kLkPtNnh', 'CtHqaXhY', 'FmSlImli', 'TiwRslOh', 'PWShFLnY', 'lFExzVaF', 'IKqsuNvV',\n",
    "                 'CqqwKRSn', 'YUExUvhq','yaHLJxDD', 'qlZMvcWc', 'dqRtXzav', 'ktBqxSwa', 'NqPjMmKP',\n",
    "                 'GIMIxlmv', 'UaXLYMMh', 'bKtkhUWD', 'HhKXJWno', 'tAYCAXge', 'WAFKMNwv', 'aWlBVrkK', \n",
    "                 'cDkXTaWP', 'hnmsRSvN', 'GHmAeUhZ', 'BIofZdtd', 'QZiSWCCB', 'CsGvKKBJ', 'OLpGAaEu', \n",
    "                 'JCDeZBXq', 'WuwrCsIY', 'AlDbXTlZ', 'hhold_size', 'OdXpbPGJ', 'ukWqmeSS', 'ukWqmeSS_max', \n",
    "                 'ukWqmeSS_min', 'mOlYV_ind_x', 'JyIRx_ind_x', 'msICg_ind_x', 'YXCNt_ind_x', 'oArAw_ind_x', \n",
    "                 'HgfUG_ind_x', 'tqINY_ind_x', 'EaHvf_ind_x', 'GmSKW_ind_x', 'pdgUV_ind_x', 'xrEKh_ind_x', \n",
    "                 'QkRds_ind_x', 'TGbFh_ind_x', 'veIDf_ind_x', 'vvXmD_ind_x', 'ndArQ_ind_x', 'KOjYm_ind_x', \n",
    "                 'hCKQi_ind_x', 'Qydia_ind_x', 'vtkRP_ind_x', 'EAWFH_ind_x', 'xjHpn_ind_x', 'RPBUw_ind_x', \n",
    "                 'yOwsR_ind_x', 'dAmhs_ind_x', 'uEstx_ind_x', 'OkXob_ind_x', 'zQvdC_ind_x', 'juMSt_ind_x', \n",
    "                 'JTCKs_ind_x', 'SlRmt_ind_y', 'TRFeI_ind_y', 'dHZCo_ind_y', 'duBym_ind_y', 'oGavK_ind_y', \n",
    "                 'tMiQp_ind_y', 'wWIzo_ind_y', 'mOlYV_ind_y', 'CXizI_ind_y', 'DQhEE_ind_y','HIvIU_ind_y', \n",
    "                 'JyIRx_ind_y', 'LvUxT_ind_y','YsahA_ind_y', 'AvBOo_ind_y', 'BqqGq_ind_y', 'QyhRH_ind_y', \n",
    "                 'ccbZA_ind_y', 'fOUHD_ind_y', 'pWLuE_ind_y', 'kpkiH_ind_y', 'rwCRh_ind_y', 'OMzWB_ind_y',\n",
    "                 'Whopv_ind_y', 'cHNSE_ind_y', 'zCwHm_ind_y', 'AYcgs_ind_y', 'DgtXD_ind_y', 'EaHvf_ind_y', \n",
    "                 'GmSKW_ind_y', 'pRitH_ind_y', 'yhUHu_ind_y', 'zfTDU_ind_y', 'kzJXk_ind_y', 'pdgUV_ind_y', \n",
    "                 'qIbMY_ind_y', 'sDvAm_ind_y', 'xrEKh_ind_y', 'bszTA_ind_y', 'xBZrP_ind_y', 'veBMo_ind_y', \n",
    "                 'SowpV_ind_y', 'OeQKE_ind_y', 'XNPgB_ind_y', 'veIDf_ind_y', 'MxNAc_ind_y', 'SuzRU_ind_y',\n",
    "                 'PaHYu_ind_y', 'SjaWF_ind_y', 'TUafC_ind_y', 'dpMMl_ind_y', 'meQRz_ind_y', 'zTqjB_ind_y',\n",
    "                 'BNylo_ind_y', 'CXjLj_ind_y', 'PwkMV_ind_y', 'GxyHv_ind_y', 'PrZhn_ind_y', 'ZApCl_ind_y',\n",
    "                 'hCKQi_ind_y', 'Qydia_ind_y', 'vtkRP_ind_y', 'kVYrO_ind_y', 'OoqEw_ind_y', 'SWhXf_ind_y', \n",
    "                 'UCsCT_ind_y', 'uJdwX_ind_y', 'QBrMF_ind_y', 'mEGPl_ind_y', 'qmOVd_ind_y', 'yOwsR_ind_y', \n",
    "                 'Jarbl_ind_y', 'dAmhs_ind_y', 'ESfgE_ind_y', 'okwnE_ind_y', 'xUYIC_ind_y', 'GtHel_ind_y', \n",
    "                 'vhhVz_ind_y']\n",
    "    \n",
    "    Bfeatures = ['wJthinfa_x', 'RcHBfZnL', 'ctmENvnX', 'VQMXmqDx', 'qFMbbTEP', 'iTXaBYWz', 'OBEKIzBF', \n",
    "                 'QHJMESPn', 'WzySFxpv', 'xjaMthYM', 'ErXfvfyP', 'qrOrXLPM', 'uGCJaUZk', 'xhxyrqCY', \n",
    "                 'OEgzfFVU', 'inQtYGxe', 'xucFAUgQ', 'KxgyymbM', 'tkkjBJlG', 'tVrKhgjp', 'YwdSaGfO', \n",
    "                 'jbpJuASm', 'dKdJhkuC', 'BXeeFczE', 'uzNDcOYr', 'xjTIGPgB', 'UFxnfTOh', 'HvnEuEBI', \n",
    "                 'rCVqiShm', 'utlAPPgH', 'xFMGVEam', 'IYZKvELr', 'VfuePqqf', 'BITMVzqW', 'EylTrLfA', \n",
    "                 'RcpCILQM', 'kYVdGKjZ', 'kMQdBpYI', 'aJHogyde', 'gmjAuMKF', 'RUftVwTl', 'qotLAmpt', \n",
    "                 'fyQTkTme', 'toNGbjGF', 'dnlnKrAg', 'RRHarKxb', 'ppPngGCg', 'OdLduMEH', 'GrLBZowF', \n",
    "                 'lCKzGQow', 'XzxOZkAn', 'wRArirvZ', 'wkChBWtc', 'cDhZjxaW', 'CQkuraNM', 'iJhxdRrO',\n",
    "                 'nrLstcxr', 'aLTViWPH', 'sClXNjye', 'yZSARGEo', 'brEIdHRz', 'TbDUmaHA', 'QcBOtphS', \n",
    "                 'QFRiwNOI', 'QFTrPoOY', 'ciJQedKc', 'nYVcljYO', 'nxhZmcKT', 'vyjislCZ', 'bmlzNlAT', \n",
    "                 'AZVtosGB', 'toZzckhe', 'BkiXyuSp', 'VlNidRNP', 'hhold_size', 'BoxViLPz', 'TJGiunYp', \n",
    "                 'TZDgOhYY', 'WqEZQuJP', 'DSttkpSI', 'wJthinfa_y', 'mAeaImix', 'NfpXxGQk', 'BoxViLPz_max', \n",
    "                 'qlLzyqpP_max', 'sWElQwuC_max', 'jzBRbsEG_max', 'WqEZQuJP_max', 'wJthinfa', 'ulQCDoYe_max', \n",
    "                 'NfpXxGQk_max', 'ETgxnJOM_min', 'WqEZQuJP_min', 'wJthinfa_min', 'ulQCDoYe_min', \n",
    "                 'wmLgk_ind_x', 'XYMAP_ind_x', 'BAepu_ind_x', 'vteNx_ind_x', 'jpGgs_ind_x', 'wnWvh_ind_x', \n",
    "                 'JQNZD_ind_x', 'zDRYd_ind_x', 'YvTGA_ind_x', 'VMwUL_ind_x', 'Aontx_ind_x', 'YEKGi_ind_x', \n",
    "                 'zMlZf_ind_x', 'sItvx_ind_x', 'ENXfH_ind_x', 'XBDsA_ind_x', 'zSWWI_ind_x', 'LwaMz_ind_x', \n",
    "                 'sqGjf_ind_x', 'FxHQQ_ind_x', 'LgwDt_ind_x', 'MkimP_ind_x', 'VloRD_ind_x', 'qASvW_ind_x', \n",
    "                 'puFAh_ind_x', 'dHJmu_ind_x', 'utTVH_ind_x', 'rOmBS_ind_x', 'ILNCl_ind_x', 'ojvZG_ind_x', \n",
    "                 'GPQFq_ind_x', 'ahACm_ind_x', 'bywyW_ind_x', 'KhlzK_ind_x', 'Bovxn_ind_x', 'JehJJ_ind_x', \n",
    "                 'JCGsD_ind_x', 'UYIFp_ind_x', 'dyqxw_ind_y', 'eMhLf_ind_y', 'bHplF_ind_y', 'kCoGg_ind_y', \n",
    "                 'cRkfb_ind_y', 'NgmqM_ind_y', 'QfwOP_ind_y', 'rZUNt_ind_y', 'KOFaR_ind_y', 'pVzHd_ind_y', \n",
    "                 'czQVH_ind_y', 'YORci_ind_y', 'lhKDF_ind_y', 'MQoVC_ind_y', 'mJIJq_ind_y', 'DwHYH_ind_y', \n",
    "                 'LKUNz_ind_y', 'orerM_ind_y', 'vdziY_ind_y', 'sDtHy_ind_y', 'RjgDG_ind_y', 'eiOHm_ind_y', \n",
    "                 'UhHVK_ind_y', 'ugHCj_ind_y', 'TYzqf_ind_y', 'YqFVt_ind_y', 'QIUps_ind_y', 'iDhDH_ind_y', \n",
    "                 'DmlPh_ind_y', 'AXyGR_ind_y', 'LikCo_ind_y', 'aaanv_ind_y', 'oejpw_ind_y', 'zSdpY_ind_y', \n",
    "                 'onbCV_ind_y', 'JjGyT_ind_y', 'hqepR_ind_y', 'kWdLK_ind_y','pygde_ind_y', 'OODqw_ind_y', \n",
    "                 'dYWJZ_ind_y', 'DDjIC_ind_y','WOUSF_ind_y', 'eeIFz_ind_y', 'Bcifq_ind_y', 'WEGGu_ind_y', \n",
    "                 'PysZH_ind_y', 'pfrQu_ind_y', 'BBIfr_ind_y', 'THBPn_ind_y', 'PnmWB_ind_y', 'EBoZt_ind_y', \n",
    "                 'QoROk_ind_y', 'WpjDZ_ind_y', 'mwvLo_ind_y', 'ktTDL_ind_y', 'WomgD_ind_y', 'Cybjv_ind_y', \n",
    "                 'uREDu_ind_y', 'urjNz_ind_y', 'iyUxa_ind_y', 'xfTDn_ind_y', 'ujKUp_ind_y', 'Tualo_ind_y', \n",
    "                 'hJUVS_ind_y', 'QWeVq_ind_y', 'wSDUU_ind_y', 'ROTtT_ind_y', 'MNyiA_ind_y', 'nMWJh_ind_y', \n",
    "                 'yUuwa_ind_y', 'TYWcz_ind_y', 'UcqME_ind_y', 'hEDSF_ind_y', 'MZUOz_ind_y', 'OvqCL_ind_y', \n",
    "                 'PTOQl_ind_y', 'JrCwM_ind_y', 'jBNAr_ind_y', 'qtUuy_ind_y', 'CLxHo_ind_y', 'aCEJP_ind_y', \n",
    "                 'Hkifa_ind_y', 'hwjzG_ind_y', 'kVFfF_ind_y', 'muyFb_ind_y', 'vxEOa_ind_y', 'VloRD_ind_y', \n",
    "                 'JSoIa_ind_y', 'mRcZw_ind_y', 'rMZWg_ind_y', 'LGKmR_ind_y', 'tFZep_ind_y', 'WvqbU_ind_y', \n",
    "                 'bcpJn_ind_y', 'Bjenx_ind_y', 'likxy_ind_y', 'gGOYi_ind_y', 'htfpS_ind_y', 'theQe_ind_y', \n",
    "                 'bDMtf_ind_y', 'fgDJw_ind_y', 'Ujfiw_ind_y', 'ycHSL_ind_y', 'vAVVy_ind_y', 'cbuDg_ind_y', \n",
    "                 'SvmQh_ind_y', 'ppRvf_ind_y', 'ULxSx_ind_y', 'khYDr_ind_y', 'muMLm_ind_y', 'EdOpT_ind_y', \n",
    "                 'haUyq_ind_y', 'NEgbp_ind_y', 'SrqBm_ind_y', 'tucwI_ind_y', 'vBHOU_ind_y', 'tCFBl_ind_y', \n",
    "                 'WoOTo_ind_y', 'wIdgm_ind_y', 'EyqjN_ind_y', 'Nsaoe_ind_y', 'qmOxG_ind_y', 'aDlJD_ind_y', \n",
    "                 'ASpbn_ind_y', 'ZGgue_ind_y', 'fzWiI_ind_y', 'mVoLS_ind_y', 'htUtp_ind_y', 'oBsmm_ind_y', \n",
    "                 'PzTBV_ind_y', 'aHInl_ind_y']    \n",
    "    \n",
    "\n",
    "\n",
    "    aX_train =  aX_train[Afeatures].copy()\n",
    "    aX_test =  aX_test[Afeatures].copy()\n",
    "    bX_train =  bX_train[Bfeatures].copy()\n",
    "    bX_test =  bX_test[Bfeatures].copy()\n",
    "    print(\"--------------------------------------------\")\n",
    "    return aX_train, ay_train, aX_test, bX_train, by_train, bX_test"
   ]
  },
  {
   "cell_type": "code",
   "execution_count": 9,
   "metadata": {},
   "outputs": [
    {
     "name": "stderr",
     "output_type": "stream",
     "text": [
      "/home/texugo/anaconda3/envs/ag100/lib/python3.6/site-packages/ipykernel_launcher.py:13: FutureWarning: using a dict on a Series for aggregation\n",
      "is deprecated and will be removed in a future version\n",
      "  del sys.path[0]\n"
     ]
    },
    {
     "name": "stdout",
     "output_type": "stream",
     "text": [
      "Country A\n",
      "\n",
      "Country B\n",
      "--------------------------------------------\n"
     ]
    }
   ],
   "source": [
    "aX_train, aY_train, aX_test, bX_train, bY_train, bX_test = read_test_train_v2()"
   ]
  },
  {
   "cell_type": "markdown",
   "metadata": {},
   "source": [
    "# Model Train/Predict"
   ]
  },
  {
   "cell_type": "markdown",
   "metadata": {},
   "source": [
    "## Def"
   ]
  },
  {
   "cell_type": "code",
   "execution_count": 10,
   "metadata": {
    "collapsed": true
   },
   "outputs": [],
   "source": [
    "model = {'A':'modelA_v1','B':'modelB_v1'}\n",
    "\n",
    "datafiles = {}\n",
    "datafiles['out'] = 'predictions/Light_M01_F10_'"
   ]
  },
  {
   "cell_type": "markdown",
   "metadata": {},
   "source": [
    "## Submission"
   ]
  },
  {
   "cell_type": "code",
   "execution_count": 11,
   "metadata": {
    "collapsed": true
   },
   "outputs": [],
   "source": [
    "a_preds = eval(model['A'])(aX_train, aY_train, aX_test)\n",
    "b_preds = eval(model['B'])(bX_train, bY_train, bX_test)"
   ]
  },
  {
   "cell_type": "code",
   "execution_count": 12,
   "metadata": {
    "collapsed": true
   },
   "outputs": [],
   "source": [
    "# convert preds to data frames\n",
    "a_sub = make_country_df(a_preds.flatten(), aX_test, 'A')\n",
    "b_sub = make_country_df(b_preds.flatten(), bX_test, 'B')"
   ]
  },
  {
   "cell_type": "code",
   "execution_count": 13,
   "metadata": {
    "collapsed": true
   },
   "outputs": [],
   "source": [
    "a_sub.to_csv(datafiles['out']+'_A_test.csv')\n",
    "b_sub.to_csv(datafiles['out']+'_B_test.csv')"
   ]
  },
  {
   "cell_type": "code",
   "execution_count": null,
   "metadata": {
    "collapsed": true
   },
   "outputs": [],
   "source": []
  }
 ],
 "metadata": {
  "anaconda-cloud": {},
  "kernelspec": {
   "display_name": "Python 3",
   "language": "python",
   "name": "python3"
  },
  "language_info": {
   "codemirror_mode": {
    "name": "ipython",
    "version": 3
   },
   "file_extension": ".py",
   "mimetype": "text/x-python",
   "name": "python",
   "nbconvert_exporter": "python",
   "pygments_lexer": "ipython3",
   "version": "3.6.1"
  }
 },
 "nbformat": 4,
 "nbformat_minor": 1
}
