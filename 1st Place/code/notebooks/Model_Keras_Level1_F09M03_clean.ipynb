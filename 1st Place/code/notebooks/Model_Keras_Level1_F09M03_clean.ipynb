{
 "cells": [
  {
   "cell_type": "code",
   "execution_count": 1,
   "metadata": {},
   "outputs": [
    {
     "name": "stderr",
     "output_type": "stream",
     "text": [
      "Using TensorFlow backend.\n"
     ]
    }
   ],
   "source": [
    "import pandas as pd\n",
    "import numpy as np\n",
    "from scipy import stats\n",
    "\n",
    "random_state = np.random.RandomState(2925)\n",
    "np.random.seed(2925) # for reproducibility\"\n",
    "\n",
    "from sklearn.metrics import log_loss\n",
    "\n",
    "from sklearn.model_selection import StratifiedKFold\n",
    "from sklearn.preprocessing import  LabelEncoder\n",
    "\n",
    "from keras.regularizers import l2,l1\n",
    "from keras.layers import Input, Embedding, Dense, Dropout, Flatten\n",
    "from keras.models import Model\n",
    "from keras.layers.core import Lambda\n",
    "from keras import backend as K\n",
    "from keras import layers\n",
    "from keras import optimizers\n",
    "from keras.layers.advanced_activations import PReLU\n"
   ]
  },
  {
   "cell_type": "code",
   "execution_count": 2,
   "metadata": {
    "collapsed": true
   },
   "outputs": [],
   "source": [
    "def make_country_df(preds, test_feat, country):\n",
    "    # make sure we code the country correctly\n",
    "    country_codes = ['A', 'B', 'C']\n",
    "    \n",
    "    # get just the poor probabilities\n",
    "    country_sub = pd.DataFrame(data=preds,  # proba p=1\n",
    "                               columns=['poor'], \n",
    "                               index=test_feat.index)\n",
    "\n",
    "    \n",
    "    # add the country code for joining later\n",
    "    country_sub[\"country\"] = country\n",
    "    return country_sub[[\"country\", \"poor\"]]"
   ]
  },
  {
   "cell_type": "markdown",
   "metadata": {},
   "source": [
    "Next feature transformations were inspired by this post: [link](https://medium.com/airbnb-engineering/overcoming-missing-values-in-a-random-forest-classifier-7b1fc1fc03ba)"
   ]
  },
  {
   "cell_type": "code",
   "execution_count": 3,
   "metadata": {
    "collapsed": true
   },
   "outputs": [],
   "source": [
    "def make_Fx_numeric(x_train, x_test, y_train):\n",
    "    x_train_nonmissing_loc = (x_train != -1212121)\n",
    "    x_test_nonmissing_loc = (x_test != -1212121)\n",
    "    x_train_nonmissing = x_train[x_train_nonmissing_loc] \n",
    "    x_test_nonmissing = x_test[x_test_nonmissing_loc]\n",
    "    \n",
    "    y_train_nonmissing = y_train[x_train_nonmissing_loc]\n",
    "    y_train_nonmissing_ones = (y_train_nonmissing == True)\n",
    "    x_train_nonmissing_ones = x_train_nonmissing[y_train_nonmissing_ones]\n",
    "    \n",
    "    prob_train = [round(stats.percentileofscore(x_train_nonmissing_ones, a, 'weak')/100.,2) for a in x_train_nonmissing]\n",
    "    prob_test = [round(stats.percentileofscore(x_train_nonmissing_ones, a, 'weak')/100.,2) for a in x_test_nonmissing]\n",
    "    \n",
    "    Fx_train = np.array(x_train[:], dtype=float)\n",
    "    Fx_test = np.array(x_test[:], dtype=float)\n",
    "    Fx_train[x_train_nonmissing_loc]=prob_train\n",
    "    Fx_test[x_test_nonmissing_loc]=prob_test\n",
    "    return Fx_train, Fx_test"
   ]
  },
  {
   "cell_type": "markdown",
   "metadata": {},
   "source": [
    "# Models"
   ]
  },
  {
   "cell_type": "code",
   "execution_count": 4,
   "metadata": {
    "collapsed": true
   },
   "outputs": [],
   "source": [
    "def expand_dims(x):\n",
    "    return K.expand_dims(x, 1)\n",
    "\n",
    "def expand_dims_output_shape(input_shape):\n",
    "    return (input_shape[0], 1, input_shape[1])"
   ]
  },
  {
   "cell_type": "code",
   "execution_count": 5,
   "metadata": {
    "collapsed": true
   },
   "outputs": [],
   "source": [
    "# Standardize features\n",
    "def standardize(df, numeric_only=True):\n",
    "    numeric = df.select_dtypes(include=['int64', 'float64'])\n",
    "    # subtracy mean and divide by std\n",
    "    df[numeric.columns] = (numeric - numeric.mean()) / numeric.std()\n",
    "    return df\n",
    "\n",
    "\n",
    "def keras_encoding(df_train,df_test):\n",
    "\n",
    "    ntrain = df_train.shape[0]\n",
    "    df_all = pd.concat((df_train, df_test), axis=0, ignore_index=True)\n",
    "    \n",
    "    num_list = list(df_train.select_dtypes(include=['int64', 'float64']).columns)\n",
    "    df_all = standardize(df_all)\n",
    "    \n",
    "    cat_list = list(df_train.select_dtypes(include=['object', 'bool']).columns)\n",
    "    for c in cat_list:\n",
    "        df_all[c] = df_all[c].astype('category').cat.as_ordered()\n",
    "        \n",
    "    le = LabelEncoder()\n",
    "\n",
    "    for col in cat_list:\n",
    "        le.fit(df_all[col].values)\n",
    "        df_all[col] = le.transform(df_all[col].values)\n",
    "\n",
    "    Din = dict()\n",
    "    Dout = dict()   \n",
    "    for col in cat_list:\n",
    "        cat_sz = np.size(np.unique(df_all[col].values))\n",
    "        Din[col]= cat_sz\n",
    "        Dout[col] = max(3,min(50, (cat_sz+1)//2))\n",
    "    \n",
    "    df_train = df_all.iloc[:ntrain,:].copy()\n",
    "    df_test = df_all.iloc[ntrain:,:].copy()\n",
    "    return df_train,df_test, num_list, cat_list, Din, Dout"
   ]
  },
  {
   "cell_type": "code",
   "execution_count": 6,
   "metadata": {
    "collapsed": true
   },
   "outputs": [],
   "source": [
    "def Keras_A01(Xtr,Ytr,Xte,num_list, cat_list, Din, Dout,cv_i):\n",
    "\n",
    "    X_list = []\n",
    "    for col in cat_list:\n",
    "        X_list.append(Xtr[col].values)\n",
    "    X_list.append(Xtr[num_list].values)\n",
    "    X_train = X_list\n",
    "    X_list = []\n",
    "    for col in cat_list:\n",
    "        X_list.append(Xte[col].values)\n",
    "    X_list.append(Xte[num_list].values)\n",
    "    X_test = X_list\n",
    "    l2_emb = 0.0001\n",
    "\n",
    "    #emb_layers=[]\n",
    "    cat_out = []\n",
    "    cat_in = []\n",
    "\n",
    "    #cat var\n",
    "    for idx, var_name in enumerate(cat_list):\n",
    "        x_in = Input(shape=(1,), dtype='int64', name=var_name+'_in')\n",
    "\n",
    "        input_dim = Din[var_name]\n",
    "        output_dim = Dout[var_name]\n",
    "        x_out = Embedding(input_dim, \n",
    "                          output_dim, \n",
    "                          input_length=1, \n",
    "                          name = var_name, \n",
    "                          embeddings_regularizer=l1(l2_emb))(x_in)\n",
    "\n",
    "        flatten_c = Flatten()(x_out)\n",
    "        #emb_layers.append(x_out) \n",
    "        \n",
    "        cat_in.append(x_in)\n",
    "        cat_out.append(flatten_c)  \n",
    "\n",
    "    x_emb = layers.concatenate(cat_out,name = 'emb')\n",
    "\n",
    "    #continuous variables\n",
    "    cont_in = Input(shape=(len(num_list),), name='continuous_input')\n",
    "    cont_out = Lambda(expand_dims, expand_dims_output_shape)(cont_in)\n",
    "    x_num = Flatten(name = 'num')(cont_out)\n",
    "\n",
    "    cat_in.append(cont_in)\n",
    "\n",
    "    #merge\n",
    "    x = layers.concatenate([x_emb,x_num],name = 'emb_num')\n",
    "    x = Dense(512)(x)\n",
    "    x = PReLU()(x)\n",
    "    x = Dropout(0.6)(x)\n",
    "    x = Dense(64)(x)\n",
    "    x = PReLU()(x)\n",
    "    x = Dropout(0.3)(x)\n",
    "    x = Dense(32)(x)\n",
    "    x = PReLU()(x)\n",
    "    x = Dropout(0.2)(x)\n",
    "    x = Dense(1, activation='sigmoid')(x)\n",
    "\n",
    "\n",
    "    model = Model(inputs = cat_in, outputs = x)\n",
    "    \n",
    "    model.compile(optimizers.Adam(), loss='binary_crossentropy', metrics=['accuracy'])\n",
    "    \n",
    "    model.fit(X_train, Ytr, batch_size=256, epochs=9,verbose=0,shuffle=True)\n",
    " \n",
    "    Yt = model.predict(X_test).flatten() \n",
    "    K.clear_session()\n",
    "    return Yt"
   ]
  },
  {
   "cell_type": "code",
   "execution_count": 7,
   "metadata": {
    "collapsed": true
   },
   "outputs": [],
   "source": [
    "def batch_generator(X, y,cat_list,num_list,batch_size):\n",
    "    \n",
    "    n_splits = X.shape[0] // (batch_size - 1)\n",
    "\n",
    "    skf = StratifiedKFold(n_splits=n_splits,random_state=2925, shuffle=True)\n",
    "\n",
    "    while True:\n",
    "        for idx_tr, idx_te in skf.split(X, y):\n",
    "            X_batch = X.iloc[idx_te].reset_index(drop=True).copy()\n",
    "            y_batch = y[idx_te]\n",
    "        \n",
    "            X_list = []\n",
    "            for col in cat_list:\n",
    "                X_list.append(X_batch[col].values)\n",
    "            X_list.append(X_batch[num_list].values)\n",
    "            X_batch = X_list    \n",
    "\n",
    "            yield (X_batch, y_batch)\n",
    "\n",
    "\n",
    "def Keras_C01(Xtr,Ytr,Xte,num_list, cat_list, Din, Dout,cv_i):\n",
    "    X_list = []\n",
    "    for col in cat_list:\n",
    "        X_list.append(Xtr[col].values)\n",
    "    X_list.append(Xtr[num_list].values)\n",
    "    X_train = X_list\n",
    "    \n",
    "    X_list = []\n",
    "    for col in cat_list:\n",
    "        X_list.append(Xte[col].values)\n",
    "    X_list.append(Xte[num_list].values)\n",
    "    X_test = X_list\n",
    "\n",
    "    l2_emb = 0.0001\n",
    "\n",
    "    #emb_layers=[]\n",
    "    cat_out = []\n",
    "    cat_in = []\n",
    "\n",
    "    #cat var\n",
    "    for idx, var_name in enumerate(cat_list):\n",
    "        x_in = Input(shape=(1,), dtype='int64', name=var_name+'_in')\n",
    "\n",
    "        input_dim = Din[var_name]\n",
    "        output_dim = Dout[var_name]\n",
    "        x_out = Embedding(input_dim, \n",
    "                          output_dim, \n",
    "                          input_length=1, \n",
    "                          name = var_name, \n",
    "                          embeddings_regularizer=l1(l2_emb))(x_in)\n",
    "\n",
    "        flatten_c = Flatten()(x_out)\n",
    "        #emb_layers.append(x_out) \n",
    "        \n",
    "        cat_in.append(x_in)\n",
    "        cat_out.append(flatten_c)  \n",
    "        \n",
    "    x_emb = layers.concatenate(cat_out,name = 'emb')\n",
    "\n",
    "    #continuous variables\n",
    "    cont_in = Input(shape=(len(num_list),), name='continuous_input')\n",
    "    cont_out = Lambda(expand_dims, expand_dims_output_shape)(cont_in)\n",
    "    x_num = Flatten(name = 'num')(cont_out)\n",
    "\n",
    "    cat_in.append(cont_in)\n",
    "\n",
    "    #merge\n",
    "    x = layers.concatenate([x_emb,x_num],name = 'emb_num')\n",
    "    x = Dense(512)(x)\n",
    "    x = PReLU()(x)\n",
    "    x = Dropout(0.6)(x)\n",
    "    x = Dense(64)(x)\n",
    "    x = PReLU()(x)\n",
    "    x = Dropout(0.3)(x)\n",
    "    x = Dense(32)(x)\n",
    "    x = PReLU()(x)\n",
    "    x = Dropout(0.2)(x)\n",
    "    x = Dense(1, activation='sigmoid')(x)\n",
    "    model = Model(inputs = cat_in, outputs = x)\n",
    "    \n",
    "    model.compile(optimizers.Adam(), loss='binary_crossentropy', metrics=['accuracy'])\n",
    "\n",
    "    batch_size = 256\n",
    "    model.fit_generator(generator=batch_generator(Xtr, Ytr,cat_list,num_list, batch_size),\n",
    "                    epochs=9, verbose=0, steps_per_epoch= np.floor(Xtr.shape[0]/batch_size))\n",
    "\n",
    "    Yt = model.predict(X_test).flatten()\n",
    "    K.clear_session()\n",
    "    return Yt"
   ]
  },
  {
   "cell_type": "markdown",
   "metadata": {},
   "source": [
    "# Data Processing"
   ]
  },
  {
   "cell_type": "code",
   "execution_count": 8,
   "metadata": {
    "collapsed": true
   },
   "outputs": [],
   "source": [
    "def pre_process_data(df, enforce_cols=None):\n",
    "    #print(\"Input shape:\\t{}\".format(df.shape))\n",
    "    df.drop([\"country\"], axis=1, inplace=True)\n",
    "\n",
    "    # match test set and training set columns\n",
    "    if enforce_cols is not None:\n",
    "        to_drop = np.setdiff1d(df.columns, enforce_cols)\n",
    "        to_add = np.setdiff1d(enforce_cols, df.columns)\n",
    "\n",
    "        df.drop(to_drop, axis=1, inplace=True)\n",
    "        df = df.assign(**{c: 0 for c in to_add})\n",
    "    \n",
    "    df.fillna(df.mean(), inplace=True)\n",
    "    \n",
    "    return df"
   ]
  },
  {
   "cell_type": "code",
   "execution_count": 9,
   "metadata": {
    "collapsed": true
   },
   "outputs": [],
   "source": [
    "data_paths = {'A': {'train_hhold': 'data/A_hhold_train.csv', \n",
    "                        'test_hhold':  'data/A_hhold_test.csv',\n",
    "                        'train_indiv': 'data/A_indiv_train.csv', \n",
    "                        'test_indiv':  'data/A_indiv_test.csv'}, \n",
    "\n",
    "                  'B': {'train_hhold': 'data/B_hhold_train.csv', \n",
    "                        'test_hhold':  'data/B_hhold_test.csv',\n",
    "                        'train_indiv': 'data/B_indiv_train.csv', \n",
    "                        'test_indiv':  'data/B_indiv_test.csv'}, \n",
    "\n",
    "                  'C': {'train_hhold': 'data/C_hhold_train.csv', \n",
    "                        'test_hhold':  'data/C_hhold_test.csv',\n",
    "                        'train_indiv': 'data/C_indiv_train.csv', \n",
    "                        'test_indiv':  'data/C_indiv_test.csv'}}\n",
    "\n",
    "\n",
    "def get_hhold_size(data_indiv):\n",
    "    return data_indiv.groupby('id').country.agg({'hhold_size':'count'})\n",
    "\n",
    "\n",
    "def get_num_mean(data_indiv, traintest=None):\n",
    "    var2drop = []\n",
    "    if traintest=='train':\n",
    "        var2drop = ['iid', 'poor']\n",
    "    elif traintest=='test':\n",
    "        var2drop = ['iid']\n",
    "    return data_indiv.drop(var2drop, axis=1).groupby('id').mean()\n",
    "\n",
    "def get_num_summary(data_indiv, which=None, traintest=None):\n",
    "    var2drop = []\n",
    "    if traintest=='train':\n",
    "        var2drop = ['iid', 'poor']\n",
    "    elif traintest=='test':\n",
    "        var2drop = ['iid']\n",
    " \n",
    "    aux = ~data_indiv.drop(var2drop, axis=1).dtypes.isin(['object','bool', 'O'])\n",
    "    varnum = [aux.keys()[i] for i,j in enumerate(aux) if aux.values[i]]\n",
    "\n",
    "    data_num_max = data_indiv[varnum].groupby('id').max()\n",
    "    \n",
    "    if which=='max':\n",
    "        ans = data_indiv[varnum].groupby('id').max()\n",
    "    elif  which=='min':\n",
    "        ans = data_indiv[varnum].groupby('id').min()\n",
    "    return ans\n",
    "\n",
    "\n",
    "def get_cat_summary_choose(data_hhold, data_indiv, which='max', which_var=[], traintest=None):\n",
    "    var2drop = []\n",
    "    if traintest=='train':\n",
    "        var2drop = ['iid', 'poor', 'country']\n",
    "    elif traintest=='test':\n",
    "        var2drop = ['iid', 'country']\n",
    "\n",
    "    varobj = which_var\n",
    "    df = pd.DataFrame(index = data_hhold.index)\n",
    "    for s in varobj:\n",
    "        #print(s)\n",
    "        if which=='max':\n",
    "            df_s = pd.get_dummies(data_indiv[s]).groupby('id').max()\n",
    "        elif which=='min':\n",
    "            df_s = pd.get_dummies(data_indiv[s]).groupby('id').min()\n",
    "        else:\n",
    "            print('Not a valid WHICH')\n",
    "        #print(df_s.keys())\n",
    "        df = df.merge(df_s, left_index=True, right_index=True, suffixes=['', s+'_'])\n",
    "    return df"
   ]
  },
  {
   "cell_type": "code",
   "execution_count": 10,
   "metadata": {
    "collapsed": true
   },
   "outputs": [],
   "source": [
    "\n",
    "def get_features(Country='A', f_dict=None, traintest='train'):\n",
    "      \n",
    "    # load data\n",
    "    data_hhold = pd.read_csv(data_paths[Country]['%s_hhold' % traintest], index_col='id')\n",
    "    data_indiv = pd.read_csv(data_paths[Country]['%s_indiv' % traintest], index_col='id')\n",
    "\n",
    "    varobj = data_indiv.select_dtypes('object', 'bool').columns\n",
    "\n",
    "    ## Add indiv features:\n",
    "    #hhold size\n",
    "    if f_dict.get('hh_size'):\n",
    "        data_hh_size = get_hhold_size(data_indiv)\n",
    "        data_hhold = data_hhold.merge(data_hh_size, left_index=True, right_index=True)\n",
    "    ## mean of numerical\n",
    "    if f_dict.get('num_mean'):\n",
    "        data_num_mean = get_num_mean(data_indiv, traintest=traintest)\n",
    "        data_hhold = data_hhold.merge(data_num_mean, left_index=True, right_index=True)\n",
    "   \n",
    "    # max of numerical\n",
    "    if f_dict.get('num_max'):\n",
    "        data_num_max = get_num_summary(data_indiv, which='max', traintest=traintest)\n",
    "        data_hhold = data_hhold.merge(data_num_max, left_index=True, right_index=True, suffixes=['', '_max'])\n",
    "   \n",
    "    # min of numerical\n",
    "    if f_dict.get('num_min'):\n",
    "        data_num_min = get_num_summary(data_indiv, which='min', traintest=traintest)\n",
    "        data_hhold = data_hhold.merge(data_num_min, left_index=True, right_index=True, suffixes=['', '_min'])\n",
    "       \n",
    "    if f_dict.get('cat_hot'):\n",
    "        df = get_cat_summary_choose(data_hhold, data_indiv, which='min',\n",
    "                             which_var = varobj,\n",
    "                             traintest=traintest)\n",
    "        df = df.add_suffix('_ind')\n",
    "        data_hhold = data_hhold.merge(df, left_index=True, right_index=True)\n",
    "\n",
    "        df = get_cat_summary_choose(data_hhold, data_indiv, which='max',\n",
    "                             which_var = varobj,\n",
    "                             traintest=traintest)\n",
    "        df = df.add_suffix('_ind')\n",
    "        data_hhold = data_hhold.merge(df, left_index=True, right_index=True)\n",
    "        \n",
    "    return data_hhold"
   ]
  },
  {
   "cell_type": "code",
   "execution_count": 11,
   "metadata": {
    "collapsed": true
   },
   "outputs": [],
   "source": [
    "def read_test_train_v2():\n",
    "\n",
    "    feat = dict()\n",
    "    feat['A'] = dict()\n",
    "    feat['A']['hh_size'] = True\n",
    "    feat['A']['num_mean'] = True\n",
    "    feat['A']['num_max'] = True\n",
    "    feat['A']['num_min'] = True\n",
    "    feat['A']['cat_hot'] = True\n",
    "    feat['A']['cat_hot_which'] =  []\n",
    "    \n",
    "    a_train = get_features(Country='A', f_dict=feat['A'], traintest='train')  \n",
    "    a_test = get_features(Country='A', f_dict=feat['A'], traintest='test')  \n",
    "   \n",
    "    \n",
    "    #feat = dict()\n",
    "    feat['C'] = dict()\n",
    "    feat['C']['hh_size'] = True\n",
    "    feat['C']['num_mean'] = True\n",
    "    feat['C']['num_max'] = True\n",
    "    feat['C']['num_min'] = True\n",
    "    feat['C']['cat_hot'] = True\n",
    "    feat['C']['cat_hot_which'] = []\n",
    "\n",
    "    c_train = get_features(Country='C', f_dict=feat['C'], traintest='train')  \n",
    "    c_test = get_features(Country='C', f_dict=feat['C'], traintest='test')  \n",
    "\n",
    "    print(\"Country A\")\n",
    "    aX_train = pre_process_data(a_train.drop('poor', axis=1))\n",
    "    ay_train = np.ravel(a_train.poor).astype(np.int8)\n",
    "\n",
    "    print(\"\\nCountry C\")\n",
    "    cX_train = pre_process_data(c_train.drop('poor', axis=1))\n",
    "    cy_train = np.ravel(c_train.poor).astype(np.int8)\n",
    "\n",
    "    # process the test data\n",
    "    aX_test = pre_process_data(a_test, enforce_cols=aX_train.columns)\n",
    "    cX_test = pre_process_data(c_test, enforce_cols=cX_train.columns)\n",
    "    \n",
    "    Afeatures = ['SlDKnCuu','maLAYXwi', 'vwpsXRGk', 'TYhoEiNm', 'zFkComtB', 'zzwlWZZC', 'DxLvCGgv', \n",
    "                 'CbABToOI', 'uSKnVaKV', 'nzTeWUeM', 'nEsgxvAq', 'NmAVTtfA', 'YTdCRVJt', 'QyBloWXZ', \n",
    "                 'HKMQJANN', 'ZRrposmO', 'HfKRIwMb', 'UCAmikjV', 'uJYGhXqG', 'bxKGlBYX', 'nCzVgxgY', \n",
    "                 'ltcNxFzI', 'MxOgekdE', 'JwtIxvKg', 'bEPKkJXP', 'cqUmYeAp', 'sFWbFEso', 'TqrXZaOw', \n",
    "                 'galsfNtg', 'VIRwrkXp', 'gwhBRami', 'bPOwgKnT', 'fpHOwfAs', 'VXXLUaXP', 'btgWptTG', \n",
    "                 'YWwNfVtR', 'bgoWYRMQ', 'bMudmjzJ', 'OMtioXZZ', 'bIBQTaHw', 'KcArMKAe', 'wwfmpuWA', \n",
    "                 'znHDEHZP', 'kWFVfHWP', 'XwVALSPR', 'HHAeIHna', 'dCGNTMiG', 'ngwuvaCV', 'XSgHIFXD', \n",
    "                 'ANBCxZzU', 'NanLCXEI', 'ZnBLVaqz', 'srPNUgVy', 'pCgBHqsR', 'wEbmsuJO', 'pWyRKfsb',\n",
    "                 'udzhtHIr', 'IZFarbPw', 'lnfulcWk', 'QNLOXNwj', 'YFMZwKrU', 'RJQbcmKy', 'uizuNzbk', \n",
    "                 'dlyiMEQt', 'TnWhKowI', 'LoYIbglA', 'GhJKwVWC', 'lVHmBCmb', 'qgxmqJKa', 'gfurxECf', \n",
    "                 'hnrnuMte', 'LrQXqVUj', 'XDDOZFWf', 'QayGNSmS', 'ePtrWTFd', 'tbsBPHFD', 'naDKOzdk', \n",
    "                 'xkUFKUoW', 'jVDpuAmP', 'SeZULMCT', 'AtGRGAYi', 'WTFJilSZ', 'NBfffJUe', 'mvgxfsRb', \n",
    "                 'UXfyiodk', 'EftwspgZ', 'szowPwNq', 'BfGjiYom', 'iWEFJYkR', 'BCehjxAl', 'nqndbwXP', \n",
    "                 'phwExnuQ', 'SzUcfjnr', 'PXtHzrqw', 'CNkSTLvx', 'tHFrzjai', 'MKozKLvT', 'pjHvJhoZ', \n",
    "                 'zkbPtFyO', 'xZBEXWPR', 'dyGFeFAg', 'pKPTBZZq', 'bCYWWTxH', 'EQKKRGkR', 'cCsFudxF', \n",
    "                 'muIetHMK', 'ishdUooQ', 'ItpCDLDM', 'ptEAnCSs', 'orfSPOJX', 'OKMtkqdQ', 'qTginJts',\n",
    "                 'JzhdOhzb', 'THDtJuYh', 'jwEuQQve', 'rQAsGegu', 'kLkPtNnh', 'CtHqaXhY', 'FmSlImli', \n",
    "                 'TiwRslOh', 'PWShFLnY', 'lFExzVaF', 'IKqsuNvV', 'CqqwKRSn', 'YUExUvhq', 'yaHLJxDD', \n",
    "                 'qlZMvcWc', 'dqRtXzav', 'ktBqxSwa', 'GIMIxlmv', 'wKVwRQIp', 'UaXLYMMh', 'bKtkhUWD', \n",
    "                 'HhKXJWno', 'tAYCAXge', 'aWlBVrkK', 'cDkXTaWP', 'hnmsRSvN', 'GHmAeUhZ', 'BIofZdtd', \n",
    "                 'QZiSWCCB', 'CsGvKKBJ', 'OLpGAaEu', 'JCDeZBXq', 'HGPWuGlV', 'WuwrCsIY', 'AlDbXTlZ', \n",
    "                 'hhold_size', 'ukWqmeSS', 'ukWqmeSS_max', 'ukWqmeSS_min', 'mOlYV_ind_x', 'msICg_ind_x', \n",
    "                 'YXCNt_ind_x', 'HgfUG_ind_x', 'EaHvf_ind_x', 'pdgUV_ind_x', 'xrEKh_ind_x', 'QkRds_ind_x', \n",
    "                 'XNPgB_ind_x', 'vvXmD_ind_x', 'KOjYm_ind_x', 'Qydia_ind_x', 'vtkRP_ind_x', 'RPBUw_ind_x', \n",
    "                 'QQdHS_ind_x', 'Hikoa_ind_x', 'SlRmt_ind_y', 'TRFeI_ind_y', 'fmdsF_ind_y', 'lBMrM_ind_y', \n",
    "                 'tMiQp_ind_y', 'wWIzo_ind_y', 'xnnDH_ind_y', 'CXizI_ind_y', 'DQhEE_ind_y', 'LvUxT_ind_y', \n",
    "                 'SSvEP_ind_y', 'YsahA_ind_y', 'lzzev_ind_y', 'ccbZA_ind_y', 'fOUHD_ind_y', 'vkRKJ_ind_y', \n",
    "                 'rwCRh_ind_y', 'yomtK_ind_y', 'iWGMu_ind_y', 'EaHvf_ind_y', 'GmSKW_ind_y', 'tymHY_ind_y', \n",
    "                 'yhUHu_ind_y', 'pdgUV_ind_y', 'qIbMY_ind_y', 'sDvAm_ind_y', 'bszTA_ind_y', 'veBMo_ind_y', \n",
    "                 'SowpV_ind_y', 'OeQKE_ind_y', 'XNPgB_ind_y', 'MxNAc_ind_y', 'SuzRU_ind_y', 'PmhpI_ind_y', \n",
    "                 'SjaWF_ind_y', 'TUafC_ind_y', 'bazjA_ind_y', 'dpMMl_ind_y', 'qVwNL_ind_y', 'zTqjB_ind_y', \n",
    "                 'BNylo_ind_y', 'CXjLj_ind_y', 'PwkMV_ind_y', 'Qydia_ind_y', 'kVYrO_ind_y', 'VneGw_ind_y', \n",
    "                 'rXEFU_ind_y', 'aKoLM_ind_y', 'SWhXf_ind_y', 'UCsCT_ind_y', 'uJdwX_ind_y', 'qmOVd_ind_y', \n",
    "                 'yOwsR_ind_y', 'ZIrnY_ind_y', 'dAmhs_ind_y', 'gCSRj_ind_y', 'ESfgE_ind_y', 'okwnE_ind_y', \n",
    "                 'OkXob_ind_y', 'dDnIb_ind_y', 'jVHyH_ind_y', 'xUYIC_ind_y']\n",
    "    \n",
    "    \n",
    "    Cfeatures = ['vmKoAlVH', 'LhUIIEHQ', 'KIUzCiTC', 'NONtAKOM',  'zyABXhnz', 'gUzYYakV', 'FlsGEbwx', \n",
    "                 'WdGBOpdZ', 'kLAQgdly', 'TusIlNXO', 'tPfjVDpu', 'EQtGHLFz', 'gLDyDXsb', 'xFKmUXhu', \n",
    "                 'oniXaptE', 'QUnDQaUl', 'ubefFytO', 'zLrQXqVU', 'coFdvtHB', 'yBSpOoNe', 'wpgRhUno', \n",
    "                 'XYfcLBql', 'pQGrypBw', 'DBjxSUvf', 'avZMPHry', 'HDZTYhoE', 'wcNjwEuQ', 'phbxKGlB', \n",
    "                 'HNRJQbcm', 'GJGfnAWg', 'tIeYAnmc', 'LwKcZtLN', 'nRXRObKS', 'DMslsIBE', 'AJHrHUkH', \n",
    "                 'ihACfisf', 'obIQUcpS', 'mmoCpqWS', 'XKQWlRjk_max', 'vWNISgEA_max', 'XKQWlRjk_min', \n",
    "                 'bsMfXBld_min', 'xqUoo_ind_x', 'amOeQ_ind_x', 'RxYsa_ind_x', 'ucHNS_ind_x', 'GHDuu_ind_x', \n",
    "                 'dxzZA_ind_x', 'DGWjH_ind_x', 'XvXON_ind_x', 'LuEXv_ind_x', 'hRHpW_ind_x', 'kvMGu_ind_x', \n",
    "                 'rAwcc_ind_x', 'vtkRP_ind_x', 'xgpHA_ind_x', 'xRxWC_ind_x', 'BZKME_ind_y', 'uSuzR_ind_y', \n",
    "                 'izIlz_ind_y', 'lJvCX_ind_y', 'bCSuY_ind_y', 'ALcKg_ind_y', 'FoQcU_ind_y', 'GpnOQ_ind_y', \n",
    "                 'vhhVz_ind_y', 'EGPlQ_ind_y', 'EhzOz_ind_y', 'MyWVa_ind_y', 'UrHEJ_ind_y', 'ehUOC_ind_y', \n",
    "                 'gRXcL_ind_y', 'JnveI_ind_y', 'KEvSa_ind_y', 'hAGot_ind_y', 'Iwnmb_ind_y', 'tPmhp_ind_y', \n",
    "                 'ucqiX_ind_y', 'mlNXN_ind_y', 'niWGM_ind_y', 'qQkRd_ind_y', 'sMBUT_ind_y', 'yWhop_ind_y', \n",
    "                 'JskzT_ind_y', 'cPXrX_ind_y', 'yFSGe_ind_y', 'wsHHy_ind_y', 'hOlGY_ind_y', 'bgZsP_ind_y', \n",
    "                 'xyraV_ind_y', 'EPnnG_ind_y', 'pClPr_ind_y', 'FeIwW_ind_y', 'Izoay_ind_y', 'gvqxs_ind_y', \n",
    "                 'MZyJF_ind_y', 'QrjGn_ind_y', 'iuiyo_ind_y', 'NBQEn_ind_y', 'Ysraf_ind_y', 'fZCQS_ind_y', \n",
    "                 'sitaC_ind_y', 'wZsYz_ind_y', 'QGHnL_ind_y', 'xgpHA_ind_y', 'kXobL_ind_y', 'oacjJ_ind_y', \n",
    "                 'xRxWC_ind_y']    \n",
    "   \n",
    "\n",
    "    aX_train = aX_train[Afeatures].copy()\n",
    "    aX_test = aX_test[Afeatures].copy()\n",
    "\n",
    "    cX_train = cX_train[Cfeatures].copy()\n",
    "    cX_test = cX_test[Cfeatures].copy()\n",
    "    print(\"--------------------------------------------\")\n",
    "    return aX_train, ay_train, aX_test, cX_train, cy_train, cX_test"
   ]
  },
  {
   "cell_type": "code",
   "execution_count": 12,
   "metadata": {},
   "outputs": [
    {
     "name": "stderr",
     "output_type": "stream",
     "text": [
      "/home/texugo/anaconda3/envs/ag100/lib/python3.6/site-packages/ipykernel_launcher.py:18: FutureWarning: using a dict on a Series for aggregation\n",
      "is deprecated and will be removed in a future version\n"
     ]
    },
    {
     "name": "stdout",
     "output_type": "stream",
     "text": [
      "Country A\n",
      "\n",
      "Country C\n",
      "--------------------------------------------\n"
     ]
    }
   ],
   "source": [
    "aX_train, aY_train, aX_test, cX_train, cY_train, cX_test = read_test_train_v2()"
   ]
  },
  {
   "cell_type": "markdown",
   "metadata": {},
   "source": [
    "# Model Train/Predict"
   ]
  },
  {
   "cell_type": "markdown",
   "metadata": {},
   "source": [
    "## Def"
   ]
  },
  {
   "cell_type": "code",
   "execution_count": 13,
   "metadata": {
    "collapsed": true
   },
   "outputs": [],
   "source": [
    "model = {'A':'Keras_A01','B':'Keras_B01','C':'Keras_C01'}\n",
    "\n",
    "datafiles = {}\n",
    "datafiles['out'] = 'predictions/Keras_M03_F09_'"
   ]
  },
  {
   "cell_type": "markdown",
   "metadata": {},
   "source": [
    "## Submission"
   ]
  },
  {
   "cell_type": "code",
   "execution_count": 14,
   "metadata": {
    "collapsed": true
   },
   "outputs": [],
   "source": [
    "aX_train,aX_test,anum_list, acat_list, aDin, aDout = keras_encoding(aX_train,aX_test)\n",
    "\n",
    "#----------------------------------------------------------------\n",
    "varofint = cX_train.select_dtypes(['int64','float64']).keys()\n",
    "for v in varofint: \n",
    "    GX_train, GX_test =  make_Fx_numeric(cX_train[v].copy().values, cX_test[v].copy().values, cY_train)\n",
    "    cX_train[v+'_Fx'] = GX_train\n",
    "    cX_test[v+'_Fx'] = GX_test\n",
    "#----------------------------------------------------------------\n",
    "for v in varofint:\n",
    "    aux = pd.concat([cX_train[v],cX_test[v]], axis=0)\n",
    "    v2o = dict((j,i) for i,j in enumerate(np.sort(aux.unique())))\n",
    "    cX_train[v+'_Ox'] = cX_train[v].apply(lambda s: v2o[s]) \n",
    "    cX_test[v+'_Ox'] = cX_test[v].apply(lambda s: v2o[s])\n",
    "#----------------------------------------------------------------\n",
    "\n",
    "cX_train,cX_test,cnum_list, ccat_list, cDin, cDout = keras_encoding(cX_train,cX_test)"
   ]
  },
  {
   "cell_type": "code",
   "execution_count": 15,
   "metadata": {
    "collapsed": true
   },
   "outputs": [],
   "source": [
    "a_preds = eval(model['A'])(aX_train, aY_train, aX_test,anum_list, acat_list, aDin, aDout,0)\n",
    "c_preds = eval(model['C'])(cX_train, cY_train, cX_test,cnum_list, ccat_list, cDin, cDout,0)"
   ]
  },
  {
   "cell_type": "code",
   "execution_count": 16,
   "metadata": {
    "collapsed": true
   },
   "outputs": [],
   "source": [
    "# convert preds to data frames\n",
    "a_sub = make_country_df(a_preds.flatten(), aX_test, 'A')\n",
    "c_sub = make_country_df(c_preds.flatten(), cX_test, 'C')"
   ]
  },
  {
   "cell_type": "code",
   "execution_count": 17,
   "metadata": {
    "collapsed": true
   },
   "outputs": [],
   "source": [
    "a_sub.to_csv(datafiles['out']+'_A_test.csv')\n",
    "c_sub.to_csv(datafiles['out']+'_C_test.csv')"
   ]
  },
  {
   "cell_type": "code",
   "execution_count": null,
   "metadata": {
    "collapsed": true
   },
   "outputs": [],
   "source": []
  },
  {
   "cell_type": "code",
   "execution_count": 21,
   "metadata": {},
   "outputs": [
    {
     "data": {
      "text/plain": [
       "[<matplotlib.lines.Line2D at 0x7f5a94179780>]"
      ]
     },
     "execution_count": 21,
     "metadata": {},
     "output_type": "execute_result"
    },
    {
     "data": {
      "image/png": "[encoded data removed]",
      "text/plain": [
       "<matplotlib.figure.Figure at 0x7f5a9408aeb8>"
      ]
     },
     "metadata": {},
     "output_type": "display_data"
    }
   ],
   "source": [
    "import matplotlib.pyplot as plt\n",
    "%matplotlib inline\n",
    "df1 = pd.read_csv('./predictions/Keras_M03_F09__A_test.csv')\n",
    "df2 = pd.read_csv('./predictions/Keras_M03_F09__A_test_clean.csv')\n",
    "plt.plot(df1.poor, df2.poor, '.')"
   ]
  },
  {
   "cell_type": "code",
   "execution_count": null,
   "metadata": {
    "collapsed": true
   },
   "outputs": [],
   "source": []
  }
 ],
 "metadata": {
  "anaconda-cloud": {},
  "kernelspec": {
   "display_name": "Python 3",
   "language": "python",
   "name": "python3"
  },
  "language_info": {
   "codemirror_mode": {
    "name": "ipython",
    "version": 3
   },
   "file_extension": ".py",
   "mimetype": "text/x-python",
   "name": "python",
   "nbconvert_exporter": "python",
   "pygments_lexer": "ipython3",
   "version": "3.6.1"
  }
 },
 "nbformat": 4,
 "nbformat_minor": 1
}
