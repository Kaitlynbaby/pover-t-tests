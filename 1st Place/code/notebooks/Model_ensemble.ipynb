{
 "cells": [
  {
   "cell_type": "code",
   "execution_count": 1,
   "metadata": {
    "collapsed": true
   },
   "outputs": [],
   "source": [
    "import pandas as pd\n",
    "import numpy as np\n",
    "random_state = np.random.RandomState(2925)\n",
    "np.random.seed(2925) # for reproducibility"
   ]
  },
  {
   "cell_type": "markdown",
   "metadata": {},
   "source": [
    "The ensemble weights were obtained via CV with the **minimize** function of **scipy.optimize** library"
   ]
  },
  {
   "cell_type": "markdown",
   "metadata": {},
   "source": [
    "# Functions"
   ]
  },
  {
   "cell_type": "code",
   "execution_count": 2,
   "metadata": {
    "collapsed": true
   },
   "outputs": [],
   "source": [
    "def make_country_df(preds, test_feat, country):\n",
    "    # make sure we code the country correctly\n",
    "    country_codes = ['A', 'B', 'C']\n",
    "    \n",
    "    # get just the poor probabilities\n",
    "    country_sub = pd.DataFrame(data=preds,  # proba p=1\n",
    "                               columns=['poor'], \n",
    "                               index=test_feat.index)\n",
    "\n",
    "    \n",
    "    # add the country code for joining later\n",
    "    country_sub[\"country\"] = country\n",
    "    return country_sub[[\"country\", \"poor\"]]"
   ]
  },
  {
   "cell_type": "code",
   "execution_count": 3,
   "metadata": {
    "collapsed": true
   },
   "outputs": [],
   "source": [
    "def fopt_pred(pars, Ym):\n",
    "    pars = pars/pars.sum()\n",
    "    Y=np.dot(np.concatenate(Ym,axis=1),np.atleast_2d(pars).T)\n",
    "    return Y"
   ]
  },
  {
   "cell_type": "markdown",
   "metadata": {},
   "source": [
    "# Data Processing"
   ]
  },
  {
   "cell_type": "code",
   "execution_count": 4,
   "metadata": {
    "collapsed": true
   },
   "outputs": [],
   "source": [
    "datafiles = {}\n",
    "datafiles['out'] = 'predictions/final_submission'"
   ]
  },
  {
   "cell_type": "code",
   "execution_count": 5,
   "metadata": {
    "collapsed": true
   },
   "outputs": [],
   "source": [
    "def read_test_train():\n",
    "\n",
    "    data_paths = {'A': {'train': 'data/A_hhold_train.csv', \n",
    "                        'test':  'data/A_hhold_test.csv'}, \n",
    "\n",
    "                  'B': {'train': 'data/B_hhold_train.csv', \n",
    "                        'test':  'data/B_hhold_test.csv'}, \n",
    "\n",
    "                  'C': {'train': 'data/C_hhold_train.csv', \n",
    "                        'test':  'data/C_hhold_test.csv'}}\n",
    "\n",
    "    # load training data\n",
    "    a_train = pd.read_csv(data_paths['A']['train'], index_col='id')\n",
    "    b_train = pd.read_csv(data_paths['B']['train'], index_col='id')\n",
    "    c_train = pd.read_csv(data_paths['C']['train'], index_col='id')\n",
    "\n",
    "    ay_train = np.ravel(a_train.poor)\n",
    "    by_train = np.ravel(b_train.poor)\n",
    "    cy_train = np.ravel(c_train.poor)\n",
    "    aX_train = a_train['country'].copy()\n",
    "    bX_train = b_train['country'].copy()\n",
    "    cX_train = c_train['country'].copy()\n",
    "    \n",
    "    # load test data\n",
    "    a_test = pd.read_csv(data_paths['A']['test'], index_col='id')\n",
    "    b_test = pd.read_csv(data_paths['B']['test'], index_col='id')\n",
    "    c_test = pd.read_csv(data_paths['C']['test'], index_col='id')\n",
    "    # process the test data\n",
    "    aX_test = a_test['country'].copy()\n",
    "    bX_test = b_test['country'].copy()\n",
    "    cX_test = c_test['country'].copy()\n",
    "    return aX_train,ay_train, aX_test,bX_train,by_train, bX_test,cX_train,cy_train, cX_test"
   ]
  },
  {
   "cell_type": "code",
   "execution_count": 6,
   "metadata": {
    "collapsed": true
   },
   "outputs": [],
   "source": [
    "aX_train,aY_train, aX_test,bX_train,bY_train, bX_test,cX_train,cY_train, cX_test = read_test_train()"
   ]
  },
  {
   "cell_type": "markdown",
   "metadata": {},
   "source": [
    "# A"
   ]
  },
  {
   "cell_type": "code",
   "execution_count": 9,
   "metadata": {},
   "outputs": [
    {
     "name": "stdout",
     "output_type": "stream",
     "text": [
      "predictions/Keras_M03_F09\n",
      "predictions/KerasUB_M03_F11\n",
      "predictions/KerasUB_M02_F02\n",
      "predictions/KerasUB_M03_F02\n",
      "predictions/KerasUB_M03_F08\n",
      "predictions/Light_M01_F08\n",
      "predictions/Light_M01_F09\n",
      "predictions/Light_M01_F10\n",
      "predictions/Light_M01_F11\n"
     ]
    }
   ],
   "source": [
    "models_A = ['predictions/Keras_M03_F09','predictions/KerasUB_M03_F11','predictions/KerasUB_M02_F02','predictions/KerasUB_M03_F02','predictions/KerasUB_M03_F08','predictions/Light_M01_F08','predictions/Light_M01_F09','predictions/Light_M01_F10','predictions/Light_M01_F11']\n",
    "\n",
    "aYp_test = []\n",
    "\n",
    "for file in models_A:\n",
    "    print(file)\n",
    "    testd = pd.read_csv(file + '__A_test.csv')\n",
    "    aYp_test.append(np.atleast_2d(testd[testd['country']=='A']['poor'].values).T)\n"
   ]
  },
  {
   "cell_type": "markdown",
   "metadata": {
    "collapsed": true
   },
   "source": [
    "# B"
   ]
  },
  {
   "cell_type": "code",
   "execution_count": 10,
   "metadata": {},
   "outputs": [
    {
     "name": "stdout",
     "output_type": "stream",
     "text": [
      "predictions/Light_M01_F15\n",
      "predictions/KerasUB_M03_F11\n",
      "predictions/Keras_M03_F08\n",
      "predictions/KerasUB_M03_F02\n",
      "predictions/Light_M01_F09\n",
      "predictions/Light_M01_F10\n",
      "predictions/Light_M01_F11\n"
     ]
    }
   ],
   "source": [
    "models_B = ['predictions/Light_M01_F15','predictions/KerasUB_M03_F11','predictions/Keras_M03_F08','predictions/KerasUB_M03_F02','predictions/Light_M01_F09','predictions/Light_M01_F10','predictions/Light_M01_F11']\n",
    "\n",
    "bYp_train = []\n",
    "bYp_test = []\n",
    "\n",
    "for file in models_B:\n",
    "    print(file)\n",
    "    testd = pd.read_csv(file + '__B_test.csv')\n",
    "    bYp_test.append(np.atleast_2d(testd[testd['country']=='B']['poor'].values).T)"
   ]
  },
  {
   "cell_type": "markdown",
   "metadata": {},
   "source": [
    "# C"
   ]
  },
  {
   "cell_type": "code",
   "execution_count": 11,
   "metadata": {},
   "outputs": [
    {
     "name": "stdout",
     "output_type": "stream",
     "text": [
      "predictions/Keras_M03_F09\n",
      "predictions/Light_M01_F09\n",
      "predictions/Light_M01_F11\n"
     ]
    }
   ],
   "source": [
    "models_C = ['predictions/Keras_M03_F09','predictions/Light_M01_F09','predictions/Light_M01_F11']\n",
    "\n",
    "cYp_test = []\n",
    "\n",
    "for file in models_C:\n",
    "    print(file)\n",
    "    testd = pd.read_csv(file + '__C_test.csv')\n",
    "    cYp_test.append(np.atleast_2d(testd[testd['country']=='C']['poor'].values).T)"
   ]
  },
  {
   "cell_type": "markdown",
   "metadata": {},
   "source": [
    "# Submission"
   ]
  },
  {
   "cell_type": "code",
   "execution_count": 16,
   "metadata": {
    "collapsed": true
   },
   "outputs": [],
   "source": [
    "pcvA = np.array([1.54650548e-01, 6.99449920e-02, 2.18102764e-17, 7.77701279e-03, 2.96078796e-01, 1.53370409e-01, 1.31249388e-01, 8.78751040e-02, 9.90537502e-02])\n",
    "pcvB = np.array([4.64149729e-01, 1.50859518e-01, 7.09274904e-02, 5.18305551e-02, 5.27863510e-17, 1.96756519e-01, 6.54761887e-02])\n",
    "pcvC = np.array([0.03359332, 0.55776565, 0.40864103])"
   ]
  },
  {
   "cell_type": "code",
   "execution_count": 17,
   "metadata": {
    "collapsed": true
   },
   "outputs": [],
   "source": [
    "aYt_pred =  fopt_pred(pcvA, aYp_test)\n",
    "bYt_pred =  fopt_pred(pcvB, bYp_test)\n",
    "cYt_pred =  fopt_pred(pcvC, cYp_test)"
   ]
  },
  {
   "cell_type": "code",
   "execution_count": 18,
   "metadata": {
    "collapsed": true
   },
   "outputs": [],
   "source": [
    "# convert preds to data frames\n",
    "a_sub = make_country_df(aYt_pred.flatten(), aX_test, 'A')\n",
    "b_sub = make_country_df(bYt_pred.flatten(), bX_test, 'B')\n",
    "c_sub = make_country_df(cYt_pred.flatten(), cX_test, 'C')"
   ]
  },
  {
   "cell_type": "code",
   "execution_count": 54,
   "metadata": {
    "collapsed": true
   },
   "outputs": [],
   "source": [
    "submission = pd.concat([a_sub, b_sub, c_sub])"
   ]
  },
  {
   "cell_type": "code",
   "execution_count": 20,
   "metadata": {
    "collapsed": true
   },
   "outputs": [],
   "source": [
    "submission.to_csv(datafiles['out']+'test.csv')"
   ]
  },
  {
   "cell_type": "markdown",
   "metadata": {},
   "source": [
    "# Check replication"
   ]
  },
  {
   "cell_type": "code",
   "execution_count": 55,
   "metadata": {},
   "outputs": [
    {
     "data": {
      "text/html": [
       "<div>\n",
       "<style scoped>\n",
       "    .dataframe tbody tr th:only-of-type {\n",
       "        vertical-align: middle;\n",
       "    }\n",
       "\n",
       "    .dataframe tbody tr th {\n",
       "        vertical-align: top;\n",
       "    }\n",
       "\n",
       "    .dataframe thead th {\n",
       "        text-align: right;\n",
       "    }\n",
       "</style>\n",
       "<table border=\"1\" class=\"dataframe\">\n",
       "  <thead>\n",
       "    <tr style=\"text-align: right;\">\n",
       "      <th></th>\n",
       "      <th>country</th>\n",
       "      <th>poor</th>\n",
       "    </tr>\n",
       "    <tr>\n",
       "      <th>id</th>\n",
       "      <th></th>\n",
       "      <th></th>\n",
       "    </tr>\n",
       "  </thead>\n",
       "  <tbody>\n",
       "    <tr>\n",
       "      <th>418</th>\n",
       "      <td>A</td>\n",
       "      <td>0.957972</td>\n",
       "    </tr>\n",
       "    <tr>\n",
       "      <th>41249</th>\n",
       "      <td>A</td>\n",
       "      <td>0.000848</td>\n",
       "    </tr>\n",
       "    <tr>\n",
       "      <th>16205</th>\n",
       "      <td>A</td>\n",
       "      <td>0.829394</td>\n",
       "    </tr>\n",
       "    <tr>\n",
       "      <th>97501</th>\n",
       "      <td>A</td>\n",
       "      <td>0.000820</td>\n",
       "    </tr>\n",
       "    <tr>\n",
       "      <th>67756</th>\n",
       "      <td>A</td>\n",
       "      <td>0.974931</td>\n",
       "    </tr>\n",
       "  </tbody>\n",
       "</table>\n",
       "</div>"
      ],
      "text/plain": [
       "      country      poor\n",
       "id                     \n",
       "418         A  0.957972\n",
       "41249       A  0.000848\n",
       "16205       A  0.829394\n",
       "97501       A  0.000820\n",
       "67756       A  0.974931"
      ]
     },
     "execution_count": 55,
     "metadata": {},
     "output_type": "execute_result"
    }
   ],
   "source": [
    "submission = submission\n",
    "submission.head()"
   ]
  },
  {
   "cell_type": "code",
   "execution_count": 59,
   "metadata": {},
   "outputs": [
    {
     "data": {
      "text/html": [
       "<div>\n",
       "<style scoped>\n",
       "    .dataframe tbody tr th:only-of-type {\n",
       "        vertical-align: middle;\n",
       "    }\n",
       "\n",
       "    .dataframe tbody tr th {\n",
       "        vertical-align: top;\n",
       "    }\n",
       "\n",
       "    .dataframe thead th {\n",
       "        text-align: right;\n",
       "    }\n",
       "</style>\n",
       "<table border=\"1\" class=\"dataframe\">\n",
       "  <thead>\n",
       "    <tr style=\"text-align: right;\">\n",
       "      <th></th>\n",
       "      <th>country</th>\n",
       "      <th>poor</th>\n",
       "    </tr>\n",
       "    <tr>\n",
       "      <th>id</th>\n",
       "      <th></th>\n",
       "      <th></th>\n",
       "    </tr>\n",
       "  </thead>\n",
       "  <tbody>\n",
       "    <tr>\n",
       "      <th>418</th>\n",
       "      <td>A</td>\n",
       "      <td>0.958912</td>\n",
       "    </tr>\n",
       "    <tr>\n",
       "      <th>41249</th>\n",
       "      <td>A</td>\n",
       "      <td>0.000851</td>\n",
       "    </tr>\n",
       "    <tr>\n",
       "      <th>16205</th>\n",
       "      <td>A</td>\n",
       "      <td>0.843510</td>\n",
       "    </tr>\n",
       "    <tr>\n",
       "      <th>97501</th>\n",
       "      <td>A</td>\n",
       "      <td>0.000821</td>\n",
       "    </tr>\n",
       "    <tr>\n",
       "      <th>67756</th>\n",
       "      <td>A</td>\n",
       "      <td>0.976275</td>\n",
       "    </tr>\n",
       "  </tbody>\n",
       "</table>\n",
       "</div>"
      ],
      "text/plain": [
       "      country      poor\n",
       "id                     \n",
       "418         A  0.958912\n",
       "41249       A  0.000851\n",
       "16205       A  0.843510\n",
       "97501       A  0.000821\n",
       "67756       A  0.976275"
      ]
     },
     "execution_count": 59,
     "metadata": {},
     "output_type": "execute_result"
    }
   ],
   "source": [
    "#df_sub = pd.read_csv('./predictions/E18_M18test.csv')\n",
    "#df_sub = df_sub.set_index('id')\n",
    "df_sub.head()"
   ]
  },
  {
   "cell_type": "code",
   "execution_count": 60,
   "metadata": {},
   "outputs": [
    {
     "data": {
      "image/png": "[encoded data removed]",
      "text/plain": [
       "<matplotlib.figure.Figure at 0x7faa6399ff28>"
      ]
     },
     "metadata": {},
     "output_type": "display_data"
    },
    {
     "data": {
      "image/png": "[encoded data removed]",
      "text/plain": [
       "<matplotlib.figure.Figure at 0x7faa639a37f0>"
      ]
     },
     "metadata": {},
     "output_type": "display_data"
    },
    {
     "data": {
      "image/png": "[encoded data removed]",
      "text/plain": [
       "<matplotlib.figure.Figure at 0x7faa638dff98>"
      ]
     },
     "metadata": {},
     "output_type": "display_data"
    }
   ],
   "source": [
    "import matplotlib.pyplot as plt\n",
    "%matplotlib inline\n",
    "for c in submission.country.unique():\n",
    "    idx = submission.country==c\n",
    "    plt.plot(df_sub.loc[idx].poor, submission.loc[idx].poor,  'o', alpha=0.3)\n",
    "    plt.plot([0,1], [0,1], '-k')\n",
    "    plt.title('Country: %s' % c)\n",
    "    plt.xlabel('submission')\n",
    "    plt.ylabel('replication')\n",
    "    plt.show()"
   ]
  },
  {
   "cell_type": "code",
   "execution_count": null,
   "metadata": {
    "collapsed": true
   },
   "outputs": [],
   "source": []
  }
 ],
 "metadata": {
  "anaconda-cloud": {},
  "kernelspec": {
   "display_name": "Python [default]",
   "language": "python",
   "name": "python3"
  },
  "language_info": {
   "codemirror_mode": {
    "name": "ipython",
    "version": 3
   },
   "file_extension": ".py",
   "mimetype": "text/x-python",
   "name": "python",
   "nbconvert_exporter": "python",
   "pygments_lexer": "ipython3",
   "version": "3.6.1"
  }
 },
 "nbformat": 4,
 "nbformat_minor": 1
}
